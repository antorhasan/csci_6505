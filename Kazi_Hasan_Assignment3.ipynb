{
 "cells": [
  {
   "cell_type": "markdown",
   "metadata": {},
   "source": [
    "## TASK 1: Exploratory Data Analysis"
   ]
  },
  {
   "cell_type": "code",
   "execution_count": 1,
   "metadata": {},
   "outputs": [
    {
     "name": "stdout",
     "output_type": "stream",
     "text": [
      "<class 'pandas.core.frame.DataFrame'>\n",
      "RangeIndex: 396030 entries, 0 to 396029\n",
      "Data columns (total 27 columns):\n",
      " #   Column                Non-Null Count   Dtype  \n",
      "---  ------                --------------   -----  \n",
      " 0   loan_amnt             396030 non-null  float64\n",
      " 1   term                  396030 non-null  object \n",
      " 2   int_rate              396030 non-null  float64\n",
      " 3   installment           396030 non-null  float64\n",
      " 4   grade                 396030 non-null  object \n",
      " 5   sub_grade             396030 non-null  object \n",
      " 6   emp_title             373103 non-null  object \n",
      " 7   emp_length            377729 non-null  object \n",
      " 8   home_ownership        396030 non-null  object \n",
      " 9   annual_inc            396030 non-null  float64\n",
      " 10  verification_status   396030 non-null  object \n",
      " 11  issue_d               396030 non-null  object \n",
      " 12  loan_status           396030 non-null  object \n",
      " 13  purpose               396030 non-null  object \n",
      " 14  title                 394275 non-null  object \n",
      " 15  dti                   396030 non-null  float64\n",
      " 16  earliest_cr_line      396030 non-null  object \n",
      " 17  open_acc              396030 non-null  float64\n",
      " 18  pub_rec               396030 non-null  float64\n",
      " 19  revol_bal             396030 non-null  float64\n",
      " 20  revol_util            395754 non-null  float64\n",
      " 21  total_acc             396030 non-null  float64\n",
      " 22  initial_list_status   396030 non-null  object \n",
      " 23  application_type      396030 non-null  object \n",
      " 24  mort_acc              358235 non-null  float64\n",
      " 25  pub_rec_bankruptcies  395495 non-null  float64\n",
      " 26  address               396030 non-null  object \n",
      "dtypes: float64(12), object(15)\n",
      "memory usage: 81.6+ MB\n"
     ]
    }
   ],
   "source": [
    "import pandas as pd\n",
    "\n",
    "# read data \n",
    "df = pd.read_csv('lending_club_loan.csv', delimiter=\",\", encoding='utf8', encoding_errors='ignore', low_memory=False)\n",
    "\n",
    "# get a description of the dataframe\n",
    "df.info()"
   ]
  },
  {
   "cell_type": "markdown",
   "metadata": {},
   "source": [
    "### Task 1.1"
   ]
  },
  {
   "cell_type": "code",
   "execution_count": 2,
   "metadata": {},
   "outputs": [
    {
     "data": {
      "image/png": "[encoded data removed]",
      "text/plain": [
       "<Figure size 432x288 with 1 Axes>"
      ]
     },
     "metadata": {},
     "output_type": "display_data"
    }
   ],
   "source": [
    "import seaborn as sns\n",
    "\n",
    "# use countplot to understand 'loan_status' feature\n",
    "sns.set_theme(style=\"darkgrid\")\n",
    "ax = sns.countplot(x=\"loan_status\", data=df)"
   ]
  },
  {
   "cell_type": "markdown",
   "metadata": {},
   "source": [
    "### Task 1.2"
   ]
  },
  {
   "cell_type": "code",
   "execution_count": 3,
   "metadata": {},
   "outputs": [
    {
     "data": {
      "text/html": [
       "<div>\n",
       "<style scoped>\n",
       "    .dataframe tbody tr th:only-of-type {\n",
       "        vertical-align: middle;\n",
       "    }\n",
       "\n",
       "    .dataframe tbody tr th {\n",
       "        vertical-align: top;\n",
       "    }\n",
       "\n",
       "    .dataframe thead th {\n",
       "        text-align: right;\n",
       "    }\n",
       "</style>\n",
       "<table border=\"1\" class=\"dataframe\">\n",
       "  <thead>\n",
       "    <tr style=\"text-align: right;\">\n",
       "      <th></th>\n",
       "      <th>loan_amnt</th>\n",
       "      <th>int_rate</th>\n",
       "      <th>installment</th>\n",
       "      <th>annual_inc</th>\n",
       "      <th>dti</th>\n",
       "      <th>open_acc</th>\n",
       "      <th>pub_rec</th>\n",
       "      <th>revol_bal</th>\n",
       "      <th>revol_util</th>\n",
       "      <th>total_acc</th>\n",
       "      <th>mort_acc</th>\n",
       "      <th>pub_rec_bankruptcies</th>\n",
       "    </tr>\n",
       "  </thead>\n",
       "  <tbody>\n",
       "    <tr>\n",
       "      <th>loan_amnt</th>\n",
       "      <td>1.000000</td>\n",
       "      <td>0.168921</td>\n",
       "      <td>0.953929</td>\n",
       "      <td>0.336887</td>\n",
       "      <td>0.016636</td>\n",
       "      <td>0.198556</td>\n",
       "      <td>-0.077779</td>\n",
       "      <td>0.328320</td>\n",
       "      <td>0.099911</td>\n",
       "      <td>0.223886</td>\n",
       "      <td>0.222315</td>\n",
       "      <td>-0.106539</td>\n",
       "    </tr>\n",
       "    <tr>\n",
       "      <th>int_rate</th>\n",
       "      <td>0.168921</td>\n",
       "      <td>1.000000</td>\n",
       "      <td>0.162758</td>\n",
       "      <td>-0.056771</td>\n",
       "      <td>0.079038</td>\n",
       "      <td>0.011649</td>\n",
       "      <td>0.060986</td>\n",
       "      <td>-0.011280</td>\n",
       "      <td>0.293659</td>\n",
       "      <td>-0.036404</td>\n",
       "      <td>-0.082583</td>\n",
       "      <td>0.057450</td>\n",
       "    </tr>\n",
       "    <tr>\n",
       "      <th>installment</th>\n",
       "      <td>0.953929</td>\n",
       "      <td>0.162758</td>\n",
       "      <td>1.000000</td>\n",
       "      <td>0.330381</td>\n",
       "      <td>0.015786</td>\n",
       "      <td>0.188973</td>\n",
       "      <td>-0.067892</td>\n",
       "      <td>0.316455</td>\n",
       "      <td>0.123915</td>\n",
       "      <td>0.202430</td>\n",
       "      <td>0.193694</td>\n",
       "      <td>-0.098628</td>\n",
       "    </tr>\n",
       "    <tr>\n",
       "      <th>annual_inc</th>\n",
       "      <td>0.336887</td>\n",
       "      <td>-0.056771</td>\n",
       "      <td>0.330381</td>\n",
       "      <td>1.000000</td>\n",
       "      <td>-0.081685</td>\n",
       "      <td>0.136150</td>\n",
       "      <td>-0.013720</td>\n",
       "      <td>0.299773</td>\n",
       "      <td>0.027871</td>\n",
       "      <td>0.193023</td>\n",
       "      <td>0.236320</td>\n",
       "      <td>-0.050162</td>\n",
       "    </tr>\n",
       "    <tr>\n",
       "      <th>dti</th>\n",
       "      <td>0.016636</td>\n",
       "      <td>0.079038</td>\n",
       "      <td>0.015786</td>\n",
       "      <td>-0.081685</td>\n",
       "      <td>1.000000</td>\n",
       "      <td>0.136181</td>\n",
       "      <td>-0.017639</td>\n",
       "      <td>0.063571</td>\n",
       "      <td>0.088375</td>\n",
       "      <td>0.102128</td>\n",
       "      <td>-0.025439</td>\n",
       "      <td>-0.014558</td>\n",
       "    </tr>\n",
       "    <tr>\n",
       "      <th>open_acc</th>\n",
       "      <td>0.198556</td>\n",
       "      <td>0.011649</td>\n",
       "      <td>0.188973</td>\n",
       "      <td>0.136150</td>\n",
       "      <td>0.136181</td>\n",
       "      <td>1.000000</td>\n",
       "      <td>-0.018392</td>\n",
       "      <td>0.221192</td>\n",
       "      <td>-0.131420</td>\n",
       "      <td>0.680728</td>\n",
       "      <td>0.109205</td>\n",
       "      <td>-0.027732</td>\n",
       "    </tr>\n",
       "    <tr>\n",
       "      <th>pub_rec</th>\n",
       "      <td>-0.077779</td>\n",
       "      <td>0.060986</td>\n",
       "      <td>-0.067892</td>\n",
       "      <td>-0.013720</td>\n",
       "      <td>-0.017639</td>\n",
       "      <td>-0.018392</td>\n",
       "      <td>1.000000</td>\n",
       "      <td>-0.101664</td>\n",
       "      <td>-0.075910</td>\n",
       "      <td>0.019723</td>\n",
       "      <td>0.011552</td>\n",
       "      <td>0.699408</td>\n",
       "    </tr>\n",
       "    <tr>\n",
       "      <th>revol_bal</th>\n",
       "      <td>0.328320</td>\n",
       "      <td>-0.011280</td>\n",
       "      <td>0.316455</td>\n",
       "      <td>0.299773</td>\n",
       "      <td>0.063571</td>\n",
       "      <td>0.221192</td>\n",
       "      <td>-0.101664</td>\n",
       "      <td>1.000000</td>\n",
       "      <td>0.226346</td>\n",
       "      <td>0.191616</td>\n",
       "      <td>0.194925</td>\n",
       "      <td>-0.124532</td>\n",
       "    </tr>\n",
       "    <tr>\n",
       "      <th>revol_util</th>\n",
       "      <td>0.099911</td>\n",
       "      <td>0.293659</td>\n",
       "      <td>0.123915</td>\n",
       "      <td>0.027871</td>\n",
       "      <td>0.088375</td>\n",
       "      <td>-0.131420</td>\n",
       "      <td>-0.075910</td>\n",
       "      <td>0.226346</td>\n",
       "      <td>1.000000</td>\n",
       "      <td>-0.104273</td>\n",
       "      <td>0.007514</td>\n",
       "      <td>-0.086751</td>\n",
       "    </tr>\n",
       "    <tr>\n",
       "      <th>total_acc</th>\n",
       "      <td>0.223886</td>\n",
       "      <td>-0.036404</td>\n",
       "      <td>0.202430</td>\n",
       "      <td>0.193023</td>\n",
       "      <td>0.102128</td>\n",
       "      <td>0.680728</td>\n",
       "      <td>0.019723</td>\n",
       "      <td>0.191616</td>\n",
       "      <td>-0.104273</td>\n",
       "      <td>1.000000</td>\n",
       "      <td>0.381072</td>\n",
       "      <td>0.042035</td>\n",
       "    </tr>\n",
       "    <tr>\n",
       "      <th>mort_acc</th>\n",
       "      <td>0.222315</td>\n",
       "      <td>-0.082583</td>\n",
       "      <td>0.193694</td>\n",
       "      <td>0.236320</td>\n",
       "      <td>-0.025439</td>\n",
       "      <td>0.109205</td>\n",
       "      <td>0.011552</td>\n",
       "      <td>0.194925</td>\n",
       "      <td>0.007514</td>\n",
       "      <td>0.381072</td>\n",
       "      <td>1.000000</td>\n",
       "      <td>0.027239</td>\n",
       "    </tr>\n",
       "    <tr>\n",
       "      <th>pub_rec_bankruptcies</th>\n",
       "      <td>-0.106539</td>\n",
       "      <td>0.057450</td>\n",
       "      <td>-0.098628</td>\n",
       "      <td>-0.050162</td>\n",
       "      <td>-0.014558</td>\n",
       "      <td>-0.027732</td>\n",
       "      <td>0.699408</td>\n",
       "      <td>-0.124532</td>\n",
       "      <td>-0.086751</td>\n",
       "      <td>0.042035</td>\n",
       "      <td>0.027239</td>\n",
       "      <td>1.000000</td>\n",
       "    </tr>\n",
       "  </tbody>\n",
       "</table>\n",
       "</div>"
      ],
      "text/plain": [
       "                      loan_amnt  int_rate  installment  annual_inc       dti  \\\n",
       "loan_amnt              1.000000  0.168921     0.953929    0.336887  0.016636   \n",
       "int_rate               0.168921  1.000000     0.162758   -0.056771  0.079038   \n",
       "installment            0.953929  0.162758     1.000000    0.330381  0.015786   \n",
       "annual_inc             0.336887 -0.056771     0.330381    1.000000 -0.081685   \n",
       "dti                    0.016636  0.079038     0.015786   -0.081685  1.000000   \n",
       "open_acc               0.198556  0.011649     0.188973    0.136150  0.136181   \n",
       "pub_rec               -0.077779  0.060986    -0.067892   -0.013720 -0.017639   \n",
       "revol_bal              0.328320 -0.011280     0.316455    0.299773  0.063571   \n",
       "revol_util             0.099911  0.293659     0.123915    0.027871  0.088375   \n",
       "total_acc              0.223886 -0.036404     0.202430    0.193023  0.102128   \n",
       "mort_acc               0.222315 -0.082583     0.193694    0.236320 -0.025439   \n",
       "pub_rec_bankruptcies  -0.106539  0.057450    -0.098628   -0.050162 -0.014558   \n",
       "\n",
       "                      open_acc   pub_rec  revol_bal  revol_util  total_acc  \\\n",
       "loan_amnt             0.198556 -0.077779   0.328320    0.099911   0.223886   \n",
       "int_rate              0.011649  0.060986  -0.011280    0.293659  -0.036404   \n",
       "installment           0.188973 -0.067892   0.316455    0.123915   0.202430   \n",
       "annual_inc            0.136150 -0.013720   0.299773    0.027871   0.193023   \n",
       "dti                   0.136181 -0.017639   0.063571    0.088375   0.102128   \n",
       "open_acc              1.000000 -0.018392   0.221192   -0.131420   0.680728   \n",
       "pub_rec              -0.018392  1.000000  -0.101664   -0.075910   0.019723   \n",
       "revol_bal             0.221192 -0.101664   1.000000    0.226346   0.191616   \n",
       "revol_util           -0.131420 -0.075910   0.226346    1.000000  -0.104273   \n",
       "total_acc             0.680728  0.019723   0.191616   -0.104273   1.000000   \n",
       "mort_acc              0.109205  0.011552   0.194925    0.007514   0.381072   \n",
       "pub_rec_bankruptcies -0.027732  0.699408  -0.124532   -0.086751   0.042035   \n",
       "\n",
       "                      mort_acc  pub_rec_bankruptcies  \n",
       "loan_amnt             0.222315             -0.106539  \n",
       "int_rate             -0.082583              0.057450  \n",
       "installment           0.193694             -0.098628  \n",
       "annual_inc            0.236320             -0.050162  \n",
       "dti                  -0.025439             -0.014558  \n",
       "open_acc              0.109205             -0.027732  \n",
       "pub_rec               0.011552              0.699408  \n",
       "revol_bal             0.194925             -0.124532  \n",
       "revol_util            0.007514             -0.086751  \n",
       "total_acc             0.381072              0.042035  \n",
       "mort_acc              1.000000              0.027239  \n",
       "pub_rec_bankruptcies  0.027239              1.000000  "
      ]
     },
     "execution_count": 3,
     "metadata": {},
     "output_type": "execute_result"
    }
   ],
   "source": [
    "# calculate correlation between all continuous features\n",
    "df.select_dtypes('number').corr()"
   ]
  },
  {
   "cell_type": "markdown",
   "metadata": {},
   "source": [
    "### Task 1.3"
   ]
  },
  {
   "cell_type": "code",
   "execution_count": 4,
   "metadata": {},
   "outputs": [
    {
     "data": {
      "text/plain": [
       "<AxesSubplot:>"
      ]
     },
     "execution_count": 4,
     "metadata": {},
     "output_type": "execute_result"
    },
    {
     "data": {
      "image/png": "[encoded data removed]",
      "text/plain": [
       "<Figure size 792x648 with 2 Axes>"
      ]
     },
     "metadata": {},
     "output_type": "display_data"
    }
   ],
   "source": [
    "# feature correlation matrix\n",
    "import seaborn as sns\n",
    "import matplotlib.pyplot as plt\n",
    "\n",
    "featureCorrelationMatrix = df.select_dtypes('number').corr()\n",
    "cmap = sns.diverging_palette(230, 20, as_cmap=True)\n",
    "plt.subplots(figsize=(11, 9))\n",
    "sns.heatmap(featureCorrelationMatrix, cmap=cmap, vmax=.3, center=0,\n",
    "            square=True, linewidths=.5, cbar_kws={\"shrink\": .5})"
   ]
  },
  {
   "cell_type": "markdown",
   "metadata": {},
   "source": [
    "### Task 1.4"
   ]
  },
  {
   "cell_type": "markdown",
   "metadata": {},
   "source": [
    "Yes, there is duplicate information here.\n",
    "Here 'installment' and 'loan_amnt' have a correlation coefficient of 0.95 which is close to 1.0 - the maximum possible correlation coefficient. This means it is sufficient to consider only one of these features.\n",
    "There are also other feature pairs with high correlation coefficient,e.g., ('total_acc','open_acc') 0.68 and ('pub_rec_bankruptcies','pub_rec') 0.69."
   ]
  },
  {
   "cell_type": "markdown",
   "metadata": {},
   "source": [
    "### Task 1.5"
   ]
  },
  {
   "cell_type": "code",
   "execution_count": 5,
   "metadata": {},
   "outputs": [
    {
     "data": {
      "text/plain": [
       "<AxesSubplot:title={'center':'loan_amnt'}, xlabel='loan_status'>"
      ]
     },
     "execution_count": 5,
     "metadata": {},
     "output_type": "execute_result"
    },
    {
     "data": {
      "image/png": "[encoded data removed]",
      "text/plain": [
       "<Figure size 432x288 with 1 Axes>"
      ]
     },
     "metadata": {},
     "output_type": "display_data"
    }
   ],
   "source": [
    "df.boxplot(column=['loan_amnt'], by='loan_status')"
   ]
  },
  {
   "cell_type": "markdown",
   "metadata": {},
   "source": [
    "- The maximum, minimum, interquartile range are almost the same for both type of loan status.\n",
    "- The median of Fully Paid loan status type has is lower than that of Charged Off loan status type.\n",
    "- There are more Fully Paid maximum outliers than that of Charged Off type."
   ]
  },
  {
   "cell_type": "markdown",
   "metadata": {},
   "source": [
    "### Task 1.6"
   ]
  },
  {
   "cell_type": "code",
   "execution_count": 6,
   "metadata": {},
   "outputs": [
    {
     "data": {
      "text/html": [
       "<div>\n",
       "<style scoped>\n",
       "    .dataframe tbody tr th:only-of-type {\n",
       "        vertical-align: middle;\n",
       "    }\n",
       "\n",
       "    .dataframe tbody tr th {\n",
       "        vertical-align: top;\n",
       "    }\n",
       "\n",
       "    .dataframe thead tr th {\n",
       "        text-align: left;\n",
       "    }\n",
       "\n",
       "    .dataframe thead tr:last-of-type th {\n",
       "        text-align: right;\n",
       "    }\n",
       "</style>\n",
       "<table border=\"1\" class=\"dataframe\">\n",
       "  <thead>\n",
       "    <tr>\n",
       "      <th></th>\n",
       "      <th colspan=\"8\" halign=\"left\">loan_amnt</th>\n",
       "    </tr>\n",
       "    <tr>\n",
       "      <th></th>\n",
       "      <th>count</th>\n",
       "      <th>mean</th>\n",
       "      <th>std</th>\n",
       "      <th>min</th>\n",
       "      <th>25%</th>\n",
       "      <th>50%</th>\n",
       "      <th>75%</th>\n",
       "      <th>max</th>\n",
       "    </tr>\n",
       "    <tr>\n",
       "      <th>loan_status</th>\n",
       "      <th></th>\n",
       "      <th></th>\n",
       "      <th></th>\n",
       "      <th></th>\n",
       "      <th></th>\n",
       "      <th></th>\n",
       "      <th></th>\n",
       "      <th></th>\n",
       "    </tr>\n",
       "  </thead>\n",
       "  <tbody>\n",
       "    <tr>\n",
       "      <th>Charged Off</th>\n",
       "      <td>77673.0</td>\n",
       "      <td>15126.300967</td>\n",
       "      <td>8505.090557</td>\n",
       "      <td>1000.0</td>\n",
       "      <td>8525.0</td>\n",
       "      <td>14000.0</td>\n",
       "      <td>20000.0</td>\n",
       "      <td>40000.0</td>\n",
       "    </tr>\n",
       "    <tr>\n",
       "      <th>Fully Paid</th>\n",
       "      <td>318357.0</td>\n",
       "      <td>13866.878771</td>\n",
       "      <td>8302.319699</td>\n",
       "      <td>500.0</td>\n",
       "      <td>7500.0</td>\n",
       "      <td>12000.0</td>\n",
       "      <td>19225.0</td>\n",
       "      <td>40000.0</td>\n",
       "    </tr>\n",
       "  </tbody>\n",
       "</table>\n",
       "</div>"
      ],
      "text/plain": [
       "            loan_amnt                                                      \\\n",
       "                count          mean          std     min     25%      50%   \n",
       "loan_status                                                                 \n",
       "Charged Off   77673.0  15126.300967  8505.090557  1000.0  8525.0  14000.0   \n",
       "Fully Paid   318357.0  13866.878771  8302.319699   500.0  7500.0  12000.0   \n",
       "\n",
       "                               \n",
       "                 75%      max  \n",
       "loan_status                    \n",
       "Charged Off  20000.0  40000.0  \n",
       "Fully Paid   19225.0  40000.0  "
      ]
     },
     "execution_count": 6,
     "metadata": {},
     "output_type": "execute_result"
    }
   ],
   "source": [
    "df[[\"loan_amnt\",\"loan_status\"]].groupby(['loan_status']).describe()"
   ]
  },
  {
   "cell_type": "markdown",
   "metadata": {},
   "source": [
    "### Task 1.7"
   ]
  },
  {
   "cell_type": "code",
   "execution_count": 7,
   "metadata": {},
   "outputs": [
    {
     "data": {
      "text/plain": [
       "array(['B', 'A', 'C', 'E', 'D', 'F', 'G'], dtype=object)"
      ]
     },
     "execution_count": 7,
     "metadata": {},
     "output_type": "execute_result"
    }
   ],
   "source": [
    "df['grade'].unique()"
   ]
  },
  {
   "cell_type": "code",
   "execution_count": 8,
   "metadata": {},
   "outputs": [
    {
     "data": {
      "text/plain": [
       "array(['B4', 'B5', 'B3', 'A2', 'C5', 'C3', 'A1', 'B2', 'C1', 'A5', 'E4',\n",
       "       'A4', 'A3', 'D1', 'C2', 'B1', 'D3', 'D5', 'D2', 'E1', 'E2', 'E5',\n",
       "       'F4', 'E3', 'D4', 'G1', 'F5', 'G2', 'C4', 'F1', 'F3', 'G5', 'G4',\n",
       "       'F2', 'G3'], dtype=object)"
      ]
     },
     "execution_count": 8,
     "metadata": {},
     "output_type": "execute_result"
    }
   ],
   "source": [
    "df['sub_grade'].unique()"
   ]
  },
  {
   "cell_type": "code",
   "execution_count": 9,
   "metadata": {},
   "outputs": [
    {
     "data": {
      "image/png": "[encoded data removed]",
      "text/plain": [
       "<Figure size 432x288 with 1 Axes>"
      ]
     },
     "metadata": {},
     "output_type": "display_data"
    }
   ],
   "source": [
    "ax = sns.countplot(x=\"grade\", data=df)"
   ]
  },
  {
   "cell_type": "markdown",
   "metadata": {},
   "source": [
    "- 'sub_grade' contains the same 'grade' information with high granularity \n",
    "- so 'grade' can be considered a redundant column and can be droped"
   ]
  },
  {
   "cell_type": "code",
   "execution_count": 10,
   "metadata": {},
   "outputs": [],
   "source": [
    "# drop 'grade' column\n",
    "df = df.drop(columns = 'grade')"
   ]
  },
  {
   "cell_type": "markdown",
   "metadata": {},
   "source": [
    "### Task 1.8"
   ]
  },
  {
   "cell_type": "code",
   "execution_count": 11,
   "metadata": {},
   "outputs": [
    {
     "data": {
      "image/png": "[encoded data removed]",
      "text/plain": [
       "<Figure size 842.4x595.44 with 1 Axes>"
      ]
     },
     "metadata": {},
     "output_type": "display_data"
    }
   ],
   "source": [
    "sns.set(rc={'figure.figsize':(11.7,8.27)})\n",
    "ax = sns.countplot(x=\"sub_grade\", data=df)"
   ]
  },
  {
   "cell_type": "code",
   "execution_count": 12,
   "metadata": {},
   "outputs": [
    {
     "data": {
      "image/png": "[encoded data removed]",
      "text/plain": [
       "<Figure size 842.4x595.44 with 1 Axes>"
      ]
     },
     "metadata": {},
     "output_type": "display_data"
    }
   ],
   "source": [
    "ax = sns.countplot(x=\"sub_grade\", hue=\"loan_status\", data=df)"
   ]
  },
  {
   "cell_type": "markdown",
   "metadata": {},
   "source": [
    "### Task 1.9"
   ]
  },
  {
   "cell_type": "code",
   "execution_count": 13,
   "metadata": {},
   "outputs": [
    {
     "data": {
      "text/plain": [
       "sub_grade  loan_status\n",
       "A1         Charged Off     279\n",
       "           Fully Paid     9450\n",
       "A2         Charged Off     461\n",
       "           Fully Paid     9106\n",
       "A3         Charged Off     614\n",
       "                          ... \n",
       "G3         Fully Paid      270\n",
       "G4         Charged Off     168\n",
       "           Fully Paid      206\n",
       "G5         Charged Off     159\n",
       "           Fully Paid      157\n",
       "Length: 70, dtype: int64"
      ]
     },
     "execution_count": 13,
     "metadata": {},
     "output_type": "execute_result"
    }
   ],
   "source": [
    "# get count for each type of loan_status for each sub grade type\n",
    "df_sub = df[['sub_grade','loan_status']].groupby(['sub_grade','loan_status']).size() \n",
    "df_sub"
   ]
  },
  {
   "cell_type": "code",
   "execution_count": 14,
   "metadata": {},
   "outputs": [
    {
     "data": {
      "text/plain": [
       "sub_grade  loan_status\n",
       "A1         Charged Off     2.867715\n",
       "           Fully Paid     97.132285\n",
       "A2         Charged Off     4.818647\n",
       "           Fully Paid     95.181353\n",
       "A3         Charged Off     5.805598\n",
       "                            ...    \n",
       "G3         Fully Paid     48.913043\n",
       "G4         Charged Off    44.919786\n",
       "           Fully Paid     55.080214\n",
       "G5         Charged Off    50.316456\n",
       "           Fully Paid     49.683544\n",
       "Length: 70, dtype: float64"
      ]
     },
     "execution_count": 14,
     "metadata": {},
     "output_type": "execute_result"
    }
   ],
   "source": [
    "# calculate percentage of Charged Off and Fully Paid for each subgrade from count\n",
    "df_pcts = df_sub.groupby(level=0).apply(lambda x: 100 * x / float(x.sum()))\n",
    "df_pcts"
   ]
  },
  {
   "cell_type": "code",
   "execution_count": 15,
   "metadata": {},
   "outputs": [
    {
     "data": {
      "text/plain": [
       "sub_grade\n",
       "G3    51.086957\n",
       "G5    50.316456\n",
       "F5    48.675734\n",
       "G2    48.275862\n",
       "G1    46.124764\n",
       "F4    45.607163\n",
       "G4    44.919786\n",
       "F3    43.613298\n",
       "F2    42.480116\n",
       "E5    40.310586\n",
       "E4    39.302369\n",
       "F1    38.744344\n",
       "E3    38.037699\n",
       "E2    36.737990\n",
       "E1    34.406972\n",
       "D5    32.010309\n",
       "D4    31.131509\n",
       "D3    28.421828\n",
       "D2    28.033833\n",
       "D1    26.380291\n",
       "C5    24.506687\n",
       "C4    23.535503\n",
       "C3    21.841572\n",
       "C2    19.751993\n",
       "C1    17.369622\n",
       "B5    15.503736\n",
       "B4    13.839303\n",
       "B3    12.335397\n",
       "B2    10.851300\n",
       "B1     9.858200\n",
       "A5     8.490770\n",
       "A4     7.023877\n",
       "A3     5.805598\n",
       "A2     4.818647\n",
       "A1     2.867715\n",
       "dtype: float64"
      ]
     },
     "execution_count": 15,
     "metadata": {},
     "output_type": "execute_result"
    }
   ],
   "source": [
    "# sort subgrade types based on the percentage of loan status that were Charged Off\n",
    "df_pcts[:,'Charged Off'].sort_values(ascending=False) "
   ]
  },
  {
   "cell_type": "markdown",
   "metadata": {},
   "source": [
    "#### G3, G5, F5, G2, G1, F4, G4 are the top 7 subgrades that don't get paid back that often. "
   ]
  },
  {
   "cell_type": "code",
   "execution_count": 16,
   "metadata": {},
   "outputs": [
    {
     "data": {
      "image/png": "[encoded data removed]",
      "text/plain": [
       "<Figure size 842.4x595.44 with 1 Axes>"
      ]
     },
     "metadata": {},
     "output_type": "display_data"
    }
   ],
   "source": [
    "# sub grades countplot for those that don't get paid back that often\n",
    "ax = sns.countplot(x=\"sub_grade\", hue=\"loan_status\", data=df[df[\"sub_grade\"].isin(['G3','G5','F5','G2','G1','F4','G4'])])"
   ]
  },
  {
   "cell_type": "markdown",
   "metadata": {},
   "source": [
    "### Task 1.10"
   ]
  },
  {
   "cell_type": "code",
   "execution_count": 17,
   "metadata": {},
   "outputs": [
    {
     "data": {
      "text/html": [
       "<div>\n",
       "<style scoped>\n",
       "    .dataframe tbody tr th:only-of-type {\n",
       "        vertical-align: middle;\n",
       "    }\n",
       "\n",
       "    .dataframe tbody tr th {\n",
       "        vertical-align: top;\n",
       "    }\n",
       "\n",
       "    .dataframe thead th {\n",
       "        text-align: right;\n",
       "    }\n",
       "</style>\n",
       "<table border=\"1\" class=\"dataframe\">\n",
       "  <thead>\n",
       "    <tr style=\"text-align: right;\">\n",
       "      <th></th>\n",
       "      <th>loan_status</th>\n",
       "      <th>loan_repaid</th>\n",
       "    </tr>\n",
       "  </thead>\n",
       "  <tbody>\n",
       "    <tr>\n",
       "      <th>0</th>\n",
       "      <td>Fully Paid</td>\n",
       "      <td>1</td>\n",
       "    </tr>\n",
       "    <tr>\n",
       "      <th>1</th>\n",
       "      <td>Fully Paid</td>\n",
       "      <td>1</td>\n",
       "    </tr>\n",
       "    <tr>\n",
       "      <th>2</th>\n",
       "      <td>Fully Paid</td>\n",
       "      <td>1</td>\n",
       "    </tr>\n",
       "    <tr>\n",
       "      <th>3</th>\n",
       "      <td>Fully Paid</td>\n",
       "      <td>1</td>\n",
       "    </tr>\n",
       "    <tr>\n",
       "      <th>4</th>\n",
       "      <td>Charged Off</td>\n",
       "      <td>0</td>\n",
       "    </tr>\n",
       "    <tr>\n",
       "      <th>...</th>\n",
       "      <td>...</td>\n",
       "      <td>...</td>\n",
       "    </tr>\n",
       "    <tr>\n",
       "      <th>396025</th>\n",
       "      <td>Fully Paid</td>\n",
       "      <td>1</td>\n",
       "    </tr>\n",
       "    <tr>\n",
       "      <th>396026</th>\n",
       "      <td>Fully Paid</td>\n",
       "      <td>1</td>\n",
       "    </tr>\n",
       "    <tr>\n",
       "      <th>396027</th>\n",
       "      <td>Fully Paid</td>\n",
       "      <td>1</td>\n",
       "    </tr>\n",
       "    <tr>\n",
       "      <th>396028</th>\n",
       "      <td>Fully Paid</td>\n",
       "      <td>1</td>\n",
       "    </tr>\n",
       "    <tr>\n",
       "      <th>396029</th>\n",
       "      <td>Fully Paid</td>\n",
       "      <td>1</td>\n",
       "    </tr>\n",
       "  </tbody>\n",
       "</table>\n",
       "<p>396030 rows × 2 columns</p>\n",
       "</div>"
      ],
      "text/plain": [
       "        loan_status  loan_repaid\n",
       "0        Fully Paid            1\n",
       "1        Fully Paid            1\n",
       "2        Fully Paid            1\n",
       "3        Fully Paid            1\n",
       "4       Charged Off            0\n",
       "...             ...          ...\n",
       "396025   Fully Paid            1\n",
       "396026   Fully Paid            1\n",
       "396027   Fully Paid            1\n",
       "396028   Fully Paid            1\n",
       "396029   Fully Paid            1\n",
       "\n",
       "[396030 rows x 2 columns]"
      ]
     },
     "execution_count": 17,
     "metadata": {},
     "output_type": "execute_result"
    }
   ],
   "source": [
    "# create new column called 'loan_repaid' from 'loan_status'\n",
    "df['loan_repaid'] = df[['loan_status']].replace({\"loan_status\":{\"Fully Paid\": 1, \"Charged Off\": 0}})\n",
    "df[['loan_status','loan_repaid']]"
   ]
  },
  {
   "cell_type": "code",
   "execution_count": null,
   "metadata": {},
   "outputs": [],
   "source": []
  },
  {
   "cell_type": "markdown",
   "metadata": {},
   "source": [
    "### Bonus Task "
   ]
  },
  {
   "cell_type": "code",
   "execution_count": 18,
   "metadata": {},
   "outputs": [
    {
     "data": {
      "text/html": [
       "<div>\n",
       "<style scoped>\n",
       "    .dataframe tbody tr th:only-of-type {\n",
       "        vertical-align: middle;\n",
       "    }\n",
       "\n",
       "    .dataframe tbody tr th {\n",
       "        vertical-align: top;\n",
       "    }\n",
       "\n",
       "    .dataframe thead th {\n",
       "        text-align: right;\n",
       "    }\n",
       "</style>\n",
       "<table border=\"1\" class=\"dataframe\">\n",
       "  <thead>\n",
       "    <tr style=\"text-align: right;\">\n",
       "      <th></th>\n",
       "      <th>index</th>\n",
       "      <th>loan_repaid</th>\n",
       "    </tr>\n",
       "  </thead>\n",
       "  <tbody>\n",
       "    <tr>\n",
       "      <th>0</th>\n",
       "      <td>loan_amnt</td>\n",
       "      <td>-0.059836</td>\n",
       "    </tr>\n",
       "    <tr>\n",
       "      <th>1</th>\n",
       "      <td>int_rate</td>\n",
       "      <td>-0.247758</td>\n",
       "    </tr>\n",
       "    <tr>\n",
       "      <th>2</th>\n",
       "      <td>installment</td>\n",
       "      <td>-0.041082</td>\n",
       "    </tr>\n",
       "    <tr>\n",
       "      <th>3</th>\n",
       "      <td>annual_inc</td>\n",
       "      <td>0.053432</td>\n",
       "    </tr>\n",
       "    <tr>\n",
       "      <th>4</th>\n",
       "      <td>dti</td>\n",
       "      <td>-0.062413</td>\n",
       "    </tr>\n",
       "    <tr>\n",
       "      <th>5</th>\n",
       "      <td>open_acc</td>\n",
       "      <td>-0.028012</td>\n",
       "    </tr>\n",
       "    <tr>\n",
       "      <th>6</th>\n",
       "      <td>pub_rec</td>\n",
       "      <td>-0.019933</td>\n",
       "    </tr>\n",
       "    <tr>\n",
       "      <th>7</th>\n",
       "      <td>revol_bal</td>\n",
       "      <td>0.010892</td>\n",
       "    </tr>\n",
       "    <tr>\n",
       "      <th>8</th>\n",
       "      <td>revol_util</td>\n",
       "      <td>-0.082373</td>\n",
       "    </tr>\n",
       "    <tr>\n",
       "      <th>9</th>\n",
       "      <td>total_acc</td>\n",
       "      <td>0.017893</td>\n",
       "    </tr>\n",
       "    <tr>\n",
       "      <th>10</th>\n",
       "      <td>mort_acc</td>\n",
       "      <td>0.073111</td>\n",
       "    </tr>\n",
       "    <tr>\n",
       "      <th>11</th>\n",
       "      <td>pub_rec_bankruptcies</td>\n",
       "      <td>-0.009383</td>\n",
       "    </tr>\n",
       "    <tr>\n",
       "      <th>12</th>\n",
       "      <td>loan_repaid</td>\n",
       "      <td>1.000000</td>\n",
       "    </tr>\n",
       "  </tbody>\n",
       "</table>\n",
       "</div>"
      ],
      "text/plain": [
       "                   index  loan_repaid\n",
       "0              loan_amnt    -0.059836\n",
       "1               int_rate    -0.247758\n",
       "2            installment    -0.041082\n",
       "3             annual_inc     0.053432\n",
       "4                    dti    -0.062413\n",
       "5               open_acc    -0.028012\n",
       "6                pub_rec    -0.019933\n",
       "7              revol_bal     0.010892\n",
       "8             revol_util    -0.082373\n",
       "9              total_acc     0.017893\n",
       "10              mort_acc     0.073111\n",
       "11  pub_rec_bankruptcies    -0.009383\n",
       "12           loan_repaid     1.000000"
      ]
     },
     "execution_count": 18,
     "metadata": {},
     "output_type": "execute_result"
    }
   ],
   "source": [
    "# calculate correlation of numeric features to new 'loan_repaid' column\n",
    "df['loan_repaid'] = df['loan_repaid'].astype('float64')\n",
    "df_lr = df.corr()['loan_repaid'].to_frame()\n",
    "df_lr = df_lr.reset_index()\n",
    "df_lr"
   ]
  },
  {
   "cell_type": "code",
   "execution_count": 19,
   "metadata": {},
   "outputs": [
    {
     "data": {
      "image/png": "[encoded data removed]",
      "text/plain": [
       "<Figure size 1440x720 with 1 Axes>"
      ]
     },
     "metadata": {},
     "output_type": "display_data"
    }
   ],
   "source": [
    "# drop the 'loan_repaid' row itself which has correlation 1.0 with itself\n",
    "df_lr1 = df_lr.drop([12])\n",
    "# bar plot showing correaltion\n",
    "fig = plt.figure(figsize=(18, 9), dpi=80)\n",
    "ax = fig.add_axes([0,0,1,1])\n",
    "ax.set_xlabel('features')\n",
    "ax.set_ylabel('correlation coefficient with loan repaid')\n",
    "ax.bar(df_lr1['index'],df_lr1['loan_repaid'])\n",
    "plt.show()"
   ]
  },
  {
   "cell_type": "markdown",
   "metadata": {},
   "source": [
    "## Task 2: Data Pre-Processing"
   ]
  },
  {
   "cell_type": "code",
   "execution_count": 20,
   "metadata": {},
   "outputs": [
    {
     "data": {
      "text/html": [
       "<div>\n",
       "<style scoped>\n",
       "    .dataframe tbody tr th:only-of-type {\n",
       "        vertical-align: middle;\n",
       "    }\n",
       "\n",
       "    .dataframe tbody tr th {\n",
       "        vertical-align: top;\n",
       "    }\n",
       "\n",
       "    .dataframe thead th {\n",
       "        text-align: right;\n",
       "    }\n",
       "</style>\n",
       "<table border=\"1\" class=\"dataframe\">\n",
       "  <thead>\n",
       "    <tr style=\"text-align: right;\">\n",
       "      <th></th>\n",
       "      <th>0</th>\n",
       "      <th>missing_percentage</th>\n",
       "    </tr>\n",
       "  </thead>\n",
       "  <tbody>\n",
       "    <tr>\n",
       "      <th>loan_amnt</th>\n",
       "      <td>0</td>\n",
       "      <td>0.000000</td>\n",
       "    </tr>\n",
       "    <tr>\n",
       "      <th>term</th>\n",
       "      <td>0</td>\n",
       "      <td>0.000000</td>\n",
       "    </tr>\n",
       "    <tr>\n",
       "      <th>int_rate</th>\n",
       "      <td>0</td>\n",
       "      <td>0.000000</td>\n",
       "    </tr>\n",
       "    <tr>\n",
       "      <th>installment</th>\n",
       "      <td>0</td>\n",
       "      <td>0.000000</td>\n",
       "    </tr>\n",
       "    <tr>\n",
       "      <th>sub_grade</th>\n",
       "      <td>0</td>\n",
       "      <td>0.000000</td>\n",
       "    </tr>\n",
       "    <tr>\n",
       "      <th>emp_title</th>\n",
       "      <td>22927</td>\n",
       "      <td>5.789208</td>\n",
       "    </tr>\n",
       "    <tr>\n",
       "      <th>emp_length</th>\n",
       "      <td>18301</td>\n",
       "      <td>4.621115</td>\n",
       "    </tr>\n",
       "    <tr>\n",
       "      <th>home_ownership</th>\n",
       "      <td>0</td>\n",
       "      <td>0.000000</td>\n",
       "    </tr>\n",
       "    <tr>\n",
       "      <th>annual_inc</th>\n",
       "      <td>0</td>\n",
       "      <td>0.000000</td>\n",
       "    </tr>\n",
       "    <tr>\n",
       "      <th>verification_status</th>\n",
       "      <td>0</td>\n",
       "      <td>0.000000</td>\n",
       "    </tr>\n",
       "    <tr>\n",
       "      <th>issue_d</th>\n",
       "      <td>0</td>\n",
       "      <td>0.000000</td>\n",
       "    </tr>\n",
       "    <tr>\n",
       "      <th>loan_status</th>\n",
       "      <td>0</td>\n",
       "      <td>0.000000</td>\n",
       "    </tr>\n",
       "    <tr>\n",
       "      <th>purpose</th>\n",
       "      <td>0</td>\n",
       "      <td>0.000000</td>\n",
       "    </tr>\n",
       "    <tr>\n",
       "      <th>title</th>\n",
       "      <td>1755</td>\n",
       "      <td>0.443148</td>\n",
       "    </tr>\n",
       "    <tr>\n",
       "      <th>dti</th>\n",
       "      <td>0</td>\n",
       "      <td>0.000000</td>\n",
       "    </tr>\n",
       "    <tr>\n",
       "      <th>earliest_cr_line</th>\n",
       "      <td>0</td>\n",
       "      <td>0.000000</td>\n",
       "    </tr>\n",
       "    <tr>\n",
       "      <th>open_acc</th>\n",
       "      <td>0</td>\n",
       "      <td>0.000000</td>\n",
       "    </tr>\n",
       "    <tr>\n",
       "      <th>pub_rec</th>\n",
       "      <td>0</td>\n",
       "      <td>0.000000</td>\n",
       "    </tr>\n",
       "    <tr>\n",
       "      <th>revol_bal</th>\n",
       "      <td>0</td>\n",
       "      <td>0.000000</td>\n",
       "    </tr>\n",
       "    <tr>\n",
       "      <th>revol_util</th>\n",
       "      <td>276</td>\n",
       "      <td>0.069692</td>\n",
       "    </tr>\n",
       "    <tr>\n",
       "      <th>total_acc</th>\n",
       "      <td>0</td>\n",
       "      <td>0.000000</td>\n",
       "    </tr>\n",
       "    <tr>\n",
       "      <th>initial_list_status</th>\n",
       "      <td>0</td>\n",
       "      <td>0.000000</td>\n",
       "    </tr>\n",
       "    <tr>\n",
       "      <th>application_type</th>\n",
       "      <td>0</td>\n",
       "      <td>0.000000</td>\n",
       "    </tr>\n",
       "    <tr>\n",
       "      <th>mort_acc</th>\n",
       "      <td>37795</td>\n",
       "      <td>9.543469</td>\n",
       "    </tr>\n",
       "    <tr>\n",
       "      <th>pub_rec_bankruptcies</th>\n",
       "      <td>535</td>\n",
       "      <td>0.135091</td>\n",
       "    </tr>\n",
       "    <tr>\n",
       "      <th>address</th>\n",
       "      <td>0</td>\n",
       "      <td>0.000000</td>\n",
       "    </tr>\n",
       "    <tr>\n",
       "      <th>loan_repaid</th>\n",
       "      <td>0</td>\n",
       "      <td>0.000000</td>\n",
       "    </tr>\n",
       "  </tbody>\n",
       "</table>\n",
       "</div>"
      ],
      "text/plain": [
       "                          0  missing_percentage\n",
       "loan_amnt                 0            0.000000\n",
       "term                      0            0.000000\n",
       "int_rate                  0            0.000000\n",
       "installment               0            0.000000\n",
       "sub_grade                 0            0.000000\n",
       "emp_title             22927            5.789208\n",
       "emp_length            18301            4.621115\n",
       "home_ownership            0            0.000000\n",
       "annual_inc                0            0.000000\n",
       "verification_status       0            0.000000\n",
       "issue_d                   0            0.000000\n",
       "loan_status               0            0.000000\n",
       "purpose                   0            0.000000\n",
       "title                  1755            0.443148\n",
       "dti                       0            0.000000\n",
       "earliest_cr_line          0            0.000000\n",
       "open_acc                  0            0.000000\n",
       "pub_rec                   0            0.000000\n",
       "revol_bal                 0            0.000000\n",
       "revol_util              276            0.069692\n",
       "total_acc                 0            0.000000\n",
       "initial_list_status       0            0.000000\n",
       "application_type          0            0.000000\n",
       "mort_acc              37795            9.543469\n",
       "pub_rec_bankruptcies    535            0.135091\n",
       "address                   0            0.000000\n",
       "loan_repaid               0            0.000000"
      ]
     },
     "execution_count": 20,
     "metadata": {},
     "output_type": "execute_result"
    }
   ],
   "source": [
    "# display total count of missing values per column\n",
    "df_miss = df.isna().sum().to_frame()\n",
    "df_miss.rename(columns={0: \"count_of_missing_values\"})\n",
    "df_miss['missing_percentage'] = df.isna().sum() / len(df) * 100\n",
    "df_miss"
   ]
  },
  {
   "cell_type": "markdown",
   "metadata": {},
   "source": [
    "### Task 2.2"
   ]
  },
  {
   "cell_type": "markdown",
   "metadata": {},
   "source": [
    "- 'emp_title' and 'emp_length' columns have 5.7% and 4.6% of missing data. \n",
    "- The percentage of missing data is not significant enough to drop entire columns but the corresponding rows can be filled with the mode of the respective feature columns."
   ]
  },
  {
   "cell_type": "code",
   "execution_count": 21,
   "metadata": {},
   "outputs": [],
   "source": [
    "# fill 'emp_title' and 'emp_length' missing values with mode of each feature\n",
    "df['emp_title'] = df['emp_title'].fillna(df['emp_title'].mode()[0])\n",
    "df['emp_length'] = df['emp_length'].fillna(df['emp_length'].mode()[0])"
   ]
  },
  {
   "cell_type": "code",
   "execution_count": 22,
   "metadata": {},
   "outputs": [
    {
     "data": {
      "text/plain": [
       "0"
      ]
     },
     "execution_count": 22,
     "metadata": {},
     "output_type": "execute_result"
    }
   ],
   "source": [
    "# check that all missing values are filled for 'emp_title' and 'emp_length'\n",
    "df['emp_title'].isna().sum()"
   ]
  },
  {
   "cell_type": "code",
   "execution_count": 23,
   "metadata": {},
   "outputs": [
    {
     "data": {
      "text/plain": [
       "0"
      ]
     },
     "execution_count": 23,
     "metadata": {},
     "output_type": "execute_result"
    }
   ],
   "source": [
    "df['emp_length'].isna().sum()"
   ]
  },
  {
   "cell_type": "code",
   "execution_count": 24,
   "metadata": {},
   "outputs": [
    {
     "data": {
      "text/plain": [
       "count      396030\n",
       "unique     173105\n",
       "top       Teacher\n",
       "freq        27316\n",
       "Name: emp_title, dtype: object"
      ]
     },
     "execution_count": 24,
     "metadata": {},
     "output_type": "execute_result"
    }
   ],
   "source": [
    "# check cardinality of 'emp_title' to see if it can be converted using dummy variable\n",
    "df['emp_title'].describe()"
   ]
  },
  {
   "cell_type": "code",
   "execution_count": 25,
   "metadata": {},
   "outputs": [],
   "source": [
    "# drop 'emp_title' as the cardinality of feature is too high to be useful\n",
    "df = df.drop(columns='emp_title')"
   ]
  },
  {
   "cell_type": "markdown",
   "metadata": {},
   "source": [
    "### Task 2.3"
   ]
  },
  {
   "cell_type": "code",
   "execution_count": 26,
   "metadata": {},
   "outputs": [
    {
     "data": {
      "image/png": "[encoded data removed]",
      "text/plain": [
       "<Figure size 842.4x595.44 with 1 Axes>"
      ]
     },
     "metadata": {},
     "output_type": "display_data"
    }
   ],
   "source": [
    "# create ordered count plot of 'emp_length' feature\n",
    "ax = sns.countplot(x=\"emp_length\", data=df, order = df['emp_length'].value_counts().index)"
   ]
  },
  {
   "cell_type": "markdown",
   "metadata": {},
   "source": [
    "### Task 2.4"
   ]
  },
  {
   "cell_type": "code",
   "execution_count": 27,
   "metadata": {},
   "outputs": [
    {
     "data": {
      "image/png": "[encoded data removed]",
      "text/plain": [
       "<Figure size 842.4x595.44 with 1 Axes>"
      ]
     },
     "metadata": {},
     "output_type": "display_data"
    }
   ],
   "source": [
    "# plot the count plot separating Fully Paid vs Charged Off\n",
    "ax = sns.countplot(x=\"emp_length\", hue=\"loan_status\", data=df, order = df['emp_length'].value_counts().index)"
   ]
  },
  {
   "cell_type": "markdown",
   "metadata": {},
   "source": [
    "### Task 2.5"
   ]
  },
  {
   "cell_type": "code",
   "execution_count": 28,
   "metadata": {},
   "outputs": [
    {
     "data": {
      "image/png": "[encoded data removed]",
      "text/plain": [
       "<Figure size 960x160 with 1 Axes>"
      ]
     },
     "metadata": {},
     "output_type": "display_data"
    }
   ],
   "source": [
    "df_emp = df[['emp_length','loan_status']].groupby(['emp_length','loan_status']).size()\n",
    "df_emp = df_emp.groupby(level=0).apply(lambda x: 100 * x / float(x.sum()))\n",
    "df_emp = df_emp[:,'Charged Off'].sort_values(ascending=False).to_frame()\n",
    "df_emp = df_emp.reset_index()\n",
    "\n",
    "fig = plt.figure(figsize=(12, 2), dpi=80)\n",
    "ax = fig.add_axes([0,0,1,1])\n",
    "ax.set_xlabel('emp_length')\n",
    "ax.set_ylabel('percentage of charged off rates')\n",
    "ax.bar(df_emp['emp_length'],df_emp[0])\n",
    "plt.show()"
   ]
  },
  {
   "cell_type": "markdown",
   "metadata": {},
   "source": [
    "### Task 2.6"
   ]
  },
  {
   "cell_type": "markdown",
   "metadata": {},
   "source": [
    "- The lowest charge off rate is for 10+ years employment length category and that is expected. For people with higher number of employment lengths are expected to be able to pay back the loan.\n",
    "- The highest charge off rate is for <1 year category.\n",
    "- After <1 year it is expected 2 year category would follow but we see 9 years. So, there is no linear relationship between employment length and charge off rates.\n",
    "- It seems employment length is not a good indicator of loan status label and so the feature can be droped."
   ]
  },
  {
   "cell_type": "code",
   "execution_count": 29,
   "metadata": {},
   "outputs": [],
   "source": [
    "df = df.drop(columns='emp_length')"
   ]
  },
  {
   "cell_type": "markdown",
   "metadata": {},
   "source": [
    "### Task 2.7"
   ]
  },
  {
   "cell_type": "code",
   "execution_count": 30,
   "metadata": {},
   "outputs": [
    {
     "data": {
      "text/plain": [
       "count                 394275\n",
       "unique                 48817\n",
       "top       Debt consolidation\n",
       "freq                  152472\n",
       "Name: title, dtype: object"
      ]
     },
     "execution_count": 30,
     "metadata": {},
     "output_type": "execute_result"
    }
   ],
   "source": [
    "# get statistics for title column\n",
    "df['title'].describe()"
   ]
  },
  {
   "cell_type": "code",
   "execution_count": 31,
   "metadata": {},
   "outputs": [
    {
     "data": {
      "text/plain": [
       "count                 396030\n",
       "unique                    14\n",
       "top       debt_consolidation\n",
       "freq                  234507\n",
       "Name: purpose, dtype: object"
      ]
     },
     "execution_count": 31,
     "metadata": {},
     "output_type": "execute_result"
    }
   ],
   "source": [
    "# get statistics for purpose column\n",
    "df['purpose'].describe()"
   ]
  },
  {
   "cell_type": "markdown",
   "metadata": {},
   "source": [
    "- 'title' column works as an identifier for the request and 'purpose' categorizes the loan request. \n",
    "- 'pupose' can be thought of the primary category and 'title' can be considered as a sub category of 'purpose' column\n",
    "- There are 48817 unique values for title column and if we consider this categorical feature then the data would suffer from curse of high dimensionality.\n",
    "- 'title' column contains redundant information and so it can be droped."
   ]
  },
  {
   "cell_type": "code",
   "execution_count": 32,
   "metadata": {},
   "outputs": [],
   "source": [
    "# drop 'title' column\n",
    "df = df.drop(columns=['title'])"
   ]
  },
  {
   "cell_type": "markdown",
   "metadata": {},
   "source": [
    "### Task 2.8"
   ]
  },
  {
   "cell_type": "markdown",
   "metadata": {},
   "source": [
    "#### Same question as 2.7 "
   ]
  },
  {
   "cell_type": "markdown",
   "metadata": {},
   "source": [
    "### Task 2.9"
   ]
  },
  {
   "cell_type": "code",
   "execution_count": 33,
   "metadata": {},
   "outputs": [
    {
     "data": {
      "text/plain": [
       "0.0     139777\n",
       "1.0      60416\n",
       "2.0      49948\n",
       "3.0      38049\n",
       "4.0      27887\n",
       "5.0      18194\n",
       "6.0      11069\n",
       "7.0       6052\n",
       "8.0       3121\n",
       "9.0       1656\n",
       "10.0       865\n",
       "11.0       479\n",
       "12.0       264\n",
       "13.0       146\n",
       "14.0       107\n",
       "15.0        61\n",
       "16.0        37\n",
       "17.0        22\n",
       "18.0        18\n",
       "19.0        15\n",
       "20.0        13\n",
       "24.0        10\n",
       "22.0         7\n",
       "21.0         4\n",
       "25.0         4\n",
       "27.0         3\n",
       "32.0         2\n",
       "31.0         2\n",
       "23.0         2\n",
       "26.0         2\n",
       "28.0         1\n",
       "30.0         1\n",
       "34.0         1\n",
       "Name: mort_acc, dtype: int64"
      ]
     },
     "execution_count": 33,
     "metadata": {},
     "output_type": "execute_result"
    }
   ],
   "source": [
    "# create value counts for mort_acc column\n",
    "df['mort_acc'].value_counts()"
   ]
  },
  {
   "cell_type": "code",
   "execution_count": 34,
   "metadata": {},
   "outputs": [
    {
     "data": {
      "text/plain": [
       "9.543468929121532"
      ]
     },
     "execution_count": 34,
     "metadata": {},
     "output_type": "execute_result"
    }
   ],
   "source": [
    "# percentage of missing values in mort_acc\n",
    "df['mort_acc'].isna().sum() / len(df['mort_acc']) * 100"
   ]
  },
  {
   "cell_type": "code",
   "execution_count": 35,
   "metadata": {},
   "outputs": [
    {
     "data": {
      "text/plain": [
       "count    358235.000000\n",
       "mean          1.813991\n",
       "std           2.147930\n",
       "min           0.000000\n",
       "25%           0.000000\n",
       "50%           1.000000\n",
       "75%           3.000000\n",
       "max          34.000000\n",
       "Name: mort_acc, dtype: float64"
      ]
     },
     "execution_count": 35,
     "metadata": {},
     "output_type": "execute_result"
    }
   ],
   "source": [
    "# calculate statistics for mort_acc\n",
    "df['mort_acc'].describe()"
   ]
  },
  {
   "cell_type": "code",
   "execution_count": null,
   "metadata": {},
   "outputs": [],
   "source": []
  },
  {
   "cell_type": "code",
   "execution_count": 36,
   "metadata": {},
   "outputs": [
    {
     "data": {
      "text/plain": [
       "0         0.000000\n",
       "1         3.000000\n",
       "2         0.000000\n",
       "3         0.000000\n",
       "4         1.000000\n",
       "            ...   \n",
       "396025    0.000000\n",
       "396026    1.000000\n",
       "396027    0.000000\n",
       "396028    5.000000\n",
       "396029    1.813991\n",
       "Name: mort_acc, Length: 396030, dtype: float64"
      ]
     },
     "execution_count": 36,
     "metadata": {},
     "output_type": "execute_result"
    }
   ],
   "source": [
    "# replace missing values with mean\n",
    "df[\"mort_acc\"].fillna(df[\"mort_acc\"].mean())"
   ]
  },
  {
   "cell_type": "code",
   "execution_count": null,
   "metadata": {},
   "outputs": [],
   "source": []
  },
  {
   "cell_type": "markdown",
   "metadata": {},
   "source": [
    "### Task 2.10"
   ]
  },
  {
   "cell_type": "code",
   "execution_count": 37,
   "metadata": {},
   "outputs": [
    {
     "data": {
      "text/plain": [
       "loan_amnt               0.222315\n",
       "int_rate               -0.082583\n",
       "installment             0.193694\n",
       "annual_inc              0.236320\n",
       "dti                    -0.025439\n",
       "open_acc                0.109205\n",
       "pub_rec                 0.011552\n",
       "revol_bal               0.194925\n",
       "revol_util              0.007514\n",
       "total_acc               0.381072\n",
       "mort_acc                1.000000\n",
       "pub_rec_bankruptcies    0.027239\n",
       "loan_repaid             0.073111\n",
       "Name: mort_acc, dtype: float64"
      ]
     },
     "execution_count": 37,
     "metadata": {},
     "output_type": "execute_result"
    }
   ],
   "source": [
    "# correlation of mort_acc with other fields\n",
    "df.select_dtypes('number').corr()['mort_acc']"
   ]
  },
  {
   "cell_type": "code",
   "execution_count": 38,
   "metadata": {},
   "outputs": [
    {
     "data": {
      "text/html": [
       "<div>\n",
       "<style scoped>\n",
       "    .dataframe tbody tr th:only-of-type {\n",
       "        vertical-align: middle;\n",
       "    }\n",
       "\n",
       "    .dataframe tbody tr th {\n",
       "        vertical-align: top;\n",
       "    }\n",
       "\n",
       "    .dataframe thead th {\n",
       "        text-align: right;\n",
       "    }\n",
       "</style>\n",
       "<table border=\"1\" class=\"dataframe\">\n",
       "  <thead>\n",
       "    <tr style=\"text-align: right;\">\n",
       "      <th></th>\n",
       "      <th>loan_amnt</th>\n",
       "      <th>term</th>\n",
       "      <th>int_rate</th>\n",
       "      <th>installment</th>\n",
       "      <th>sub_grade</th>\n",
       "      <th>home_ownership</th>\n",
       "      <th>annual_inc</th>\n",
       "      <th>verification_status</th>\n",
       "      <th>issue_d</th>\n",
       "      <th>loan_status</th>\n",
       "      <th>purpose</th>\n",
       "      <th>dti</th>\n",
       "      <th>earliest_cr_line</th>\n",
       "      <th>open_acc</th>\n",
       "      <th>pub_rec</th>\n",
       "      <th>revol_bal</th>\n",
       "      <th>revol_util</th>\n",
       "      <th>total_acc</th>\n",
       "      <th>initial_list_status</th>\n",
       "      <th>application_type</th>\n",
       "      <th>mort_acc</th>\n",
       "      <th>pub_rec_bankruptcies</th>\n",
       "      <th>address</th>\n",
       "      <th>loan_repaid</th>\n",
       "    </tr>\n",
       "  </thead>\n",
       "  <tbody>\n",
       "    <tr>\n",
       "      <th>22</th>\n",
       "      <td>4200.0</td>\n",
       "      <td>36 months</td>\n",
       "      <td>6.99</td>\n",
       "      <td>129.67</td>\n",
       "      <td>A3</td>\n",
       "      <td>OWN</td>\n",
       "      <td>24000.0</td>\n",
       "      <td>Not Verified</td>\n",
       "      <td>Jun-2011</td>\n",
       "      <td>Fully Paid</td>\n",
       "      <td>other</td>\n",
       "      <td>4.80</td>\n",
       "      <td>Oct-2006</td>\n",
       "      <td>6.0</td>\n",
       "      <td>0.0</td>\n",
       "      <td>0.0</td>\n",
       "      <td>0.0</td>\n",
       "      <td>7.0</td>\n",
       "      <td>f</td>\n",
       "      <td>INDIVIDUAL</td>\n",
       "      <td>NaN</td>\n",
       "      <td>0.0</td>\n",
       "      <td>54395 Melissa Walks\\nJenniferbury, AL 05113</td>\n",
       "      <td>1.0</td>\n",
       "    </tr>\n",
       "    <tr>\n",
       "      <th>25</th>\n",
       "      <td>6000.0</td>\n",
       "      <td>36 months</td>\n",
       "      <td>11.36</td>\n",
       "      <td>197.47</td>\n",
       "      <td>B5</td>\n",
       "      <td>RENT</td>\n",
       "      <td>46680.0</td>\n",
       "      <td>Not Verified</td>\n",
       "      <td>Apr-2010</td>\n",
       "      <td>Charged Off</td>\n",
       "      <td>medical</td>\n",
       "      <td>6.56</td>\n",
       "      <td>Oct-2003</td>\n",
       "      <td>9.0</td>\n",
       "      <td>0.0</td>\n",
       "      <td>4370.0</td>\n",
       "      <td>40.1</td>\n",
       "      <td>10.0</td>\n",
       "      <td>f</td>\n",
       "      <td>INDIVIDUAL</td>\n",
       "      <td>NaN</td>\n",
       "      <td>0.0</td>\n",
       "      <td>44130 Powers Course Suite 880\\nEast Preston, A...</td>\n",
       "      <td>0.0</td>\n",
       "    </tr>\n",
       "    <tr>\n",
       "      <th>32</th>\n",
       "      <td>3000.0</td>\n",
       "      <td>36 months</td>\n",
       "      <td>6.03</td>\n",
       "      <td>91.31</td>\n",
       "      <td>A1</td>\n",
       "      <td>OWN</td>\n",
       "      <td>64000.0</td>\n",
       "      <td>Source Verified</td>\n",
       "      <td>Oct-2011</td>\n",
       "      <td>Fully Paid</td>\n",
       "      <td>credit_card</td>\n",
       "      <td>3.81</td>\n",
       "      <td>Apr-2002</td>\n",
       "      <td>6.0</td>\n",
       "      <td>0.0</td>\n",
       "      <td>4912.0</td>\n",
       "      <td>13.4</td>\n",
       "      <td>18.0</td>\n",
       "      <td>f</td>\n",
       "      <td>INDIVIDUAL</td>\n",
       "      <td>NaN</td>\n",
       "      <td>0.0</td>\n",
       "      <td>2722 Smith Branch Suite 131\\nShaunbury, NH 22690</td>\n",
       "      <td>1.0</td>\n",
       "    </tr>\n",
       "    <tr>\n",
       "      <th>41</th>\n",
       "      <td>28000.0</td>\n",
       "      <td>60 months</td>\n",
       "      <td>19.91</td>\n",
       "      <td>312.04</td>\n",
       "      <td>E4</td>\n",
       "      <td>RENT</td>\n",
       "      <td>52000.0</td>\n",
       "      <td>Verified</td>\n",
       "      <td>Dec-2011</td>\n",
       "      <td>Charged Off</td>\n",
       "      <td>debt_consolidation</td>\n",
       "      <td>20.70</td>\n",
       "      <td>Dec-1988</td>\n",
       "      <td>10.0</td>\n",
       "      <td>0.0</td>\n",
       "      <td>29178.0</td>\n",
       "      <td>87.6</td>\n",
       "      <td>16.0</td>\n",
       "      <td>f</td>\n",
       "      <td>INDIVIDUAL</td>\n",
       "      <td>NaN</td>\n",
       "      <td>0.0</td>\n",
       "      <td>5836 Garcia Falls Apt. 525\\nMatthewtown, CT 22690</td>\n",
       "      <td>0.0</td>\n",
       "    </tr>\n",
       "    <tr>\n",
       "      <th>62</th>\n",
       "      <td>5000.0</td>\n",
       "      <td>36 months</td>\n",
       "      <td>10.39</td>\n",
       "      <td>118.45</td>\n",
       "      <td>B4</td>\n",
       "      <td>RENT</td>\n",
       "      <td>66000.0</td>\n",
       "      <td>Not Verified</td>\n",
       "      <td>May-2008</td>\n",
       "      <td>Fully Paid</td>\n",
       "      <td>medical</td>\n",
       "      <td>1.56</td>\n",
       "      <td>Dec-2001</td>\n",
       "      <td>12.0</td>\n",
       "      <td>0.0</td>\n",
       "      <td>15807.0</td>\n",
       "      <td>20.0</td>\n",
       "      <td>17.0</td>\n",
       "      <td>f</td>\n",
       "      <td>INDIVIDUAL</td>\n",
       "      <td>NaN</td>\n",
       "      <td>0.0</td>\n",
       "      <td>USS Goodman\\nFPO AE 22690</td>\n",
       "      <td>1.0</td>\n",
       "    </tr>\n",
       "  </tbody>\n",
       "</table>\n",
       "</div>"
      ],
      "text/plain": [
       "    loan_amnt        term  int_rate  installment sub_grade home_ownership  \\\n",
       "22     4200.0   36 months      6.99       129.67        A3            OWN   \n",
       "25     6000.0   36 months     11.36       197.47        B5           RENT   \n",
       "32     3000.0   36 months      6.03        91.31        A1            OWN   \n",
       "41    28000.0   60 months     19.91       312.04        E4           RENT   \n",
       "62     5000.0   36 months     10.39       118.45        B4           RENT   \n",
       "\n",
       "    annual_inc verification_status   issue_d  loan_status             purpose  \\\n",
       "22     24000.0        Not Verified  Jun-2011   Fully Paid               other   \n",
       "25     46680.0        Not Verified  Apr-2010  Charged Off             medical   \n",
       "32     64000.0     Source Verified  Oct-2011   Fully Paid         credit_card   \n",
       "41     52000.0            Verified  Dec-2011  Charged Off  debt_consolidation   \n",
       "62     66000.0        Not Verified  May-2008   Fully Paid             medical   \n",
       "\n",
       "      dti earliest_cr_line  open_acc  pub_rec  revol_bal  revol_util  \\\n",
       "22   4.80         Oct-2006       6.0      0.0        0.0         0.0   \n",
       "25   6.56         Oct-2003       9.0      0.0     4370.0        40.1   \n",
       "32   3.81         Apr-2002       6.0      0.0     4912.0        13.4   \n",
       "41  20.70         Dec-1988      10.0      0.0    29178.0        87.6   \n",
       "62   1.56         Dec-2001      12.0      0.0    15807.0        20.0   \n",
       "\n",
       "    total_acc initial_list_status application_type  mort_acc  \\\n",
       "22        7.0                   f       INDIVIDUAL       NaN   \n",
       "25       10.0                   f       INDIVIDUAL       NaN   \n",
       "32       18.0                   f       INDIVIDUAL       NaN   \n",
       "41       16.0                   f       INDIVIDUAL       NaN   \n",
       "62       17.0                   f       INDIVIDUAL       NaN   \n",
       "\n",
       "    pub_rec_bankruptcies                                            address  \\\n",
       "22                   0.0        54395 Melissa Walks\\nJenniferbury, AL 05113   \n",
       "25                   0.0  44130 Powers Course Suite 880\\nEast Preston, A...   \n",
       "32                   0.0   2722 Smith Branch Suite 131\\nShaunbury, NH 22690   \n",
       "41                   0.0  5836 Garcia Falls Apt. 525\\nMatthewtown, CT 22690   \n",
       "62                   0.0                          USS Goodman\\nFPO AE 22690   \n",
       "\n",
       "    loan_repaid  \n",
       "22          1.0  \n",
       "25          0.0  \n",
       "32          1.0  \n",
       "41          0.0  \n",
       "62          1.0  "
      ]
     },
     "metadata": {},
     "output_type": "display_data"
    }
   ],
   "source": [
    "# display the rows where mort_acc values are None\n",
    "with pd.option_context('display.max_columns', None):\n",
    "  display(df[df['mort_acc'].isnull()].head())"
   ]
  },
  {
   "cell_type": "code",
   "execution_count": 39,
   "metadata": {},
   "outputs": [],
   "source": [
    "import numpy as np\n",
    "from sklearn.experimental import enable_iterative_imputer\n",
    "from sklearn.impute import IterativeImputer\n",
    "\n",
    "# initialize the simple model for missing data imputation\n",
    "imp = IterativeImputer(max_iter=10, random_state=0)\n",
    "# fit the model on the numeric data of the dataframe\n",
    "imp.fit(df.select_dtypes('number'))\n",
    "IterativeImputer(random_state=0)\n",
    "# fill missing 'mort_acc' data using the iterativeimputer\n",
    "arr = np.round(imp.transform(df.select_dtypes('number')))\n",
    "# assign new values\n",
    "df['mort_acc'] = arr[:,10]"
   ]
  },
  {
   "cell_type": "code",
   "execution_count": 40,
   "metadata": {},
   "outputs": [
    {
     "data": {
      "text/html": [
       "<div>\n",
       "<style scoped>\n",
       "    .dataframe tbody tr th:only-of-type {\n",
       "        vertical-align: middle;\n",
       "    }\n",
       "\n",
       "    .dataframe tbody tr th {\n",
       "        vertical-align: top;\n",
       "    }\n",
       "\n",
       "    .dataframe thead th {\n",
       "        text-align: right;\n",
       "    }\n",
       "</style>\n",
       "<table border=\"1\" class=\"dataframe\">\n",
       "  <thead>\n",
       "    <tr style=\"text-align: right;\">\n",
       "      <th></th>\n",
       "      <th>loan_amnt</th>\n",
       "      <th>term</th>\n",
       "      <th>int_rate</th>\n",
       "      <th>installment</th>\n",
       "      <th>sub_grade</th>\n",
       "      <th>home_ownership</th>\n",
       "      <th>annual_inc</th>\n",
       "      <th>verification_status</th>\n",
       "      <th>issue_d</th>\n",
       "      <th>loan_status</th>\n",
       "      <th>purpose</th>\n",
       "      <th>dti</th>\n",
       "      <th>earliest_cr_line</th>\n",
       "      <th>open_acc</th>\n",
       "      <th>pub_rec</th>\n",
       "      <th>revol_bal</th>\n",
       "      <th>revol_util</th>\n",
       "      <th>total_acc</th>\n",
       "      <th>initial_list_status</th>\n",
       "      <th>application_type</th>\n",
       "      <th>mort_acc</th>\n",
       "      <th>pub_rec_bankruptcies</th>\n",
       "      <th>address</th>\n",
       "      <th>loan_repaid</th>\n",
       "    </tr>\n",
       "  </thead>\n",
       "  <tbody>\n",
       "  </tbody>\n",
       "</table>\n",
       "</div>"
      ],
      "text/plain": [
       "Empty DataFrame\n",
       "Columns: [loan_amnt, term, int_rate, installment, sub_grade, home_ownership, annual_inc, verification_status, issue_d, loan_status, purpose, dti, earliest_cr_line, open_acc, pub_rec, revol_bal, revol_util, total_acc, initial_list_status, application_type, mort_acc, pub_rec_bankruptcies, address, loan_repaid]\n",
       "Index: []"
      ]
     },
     "metadata": {},
     "output_type": "display_data"
    }
   ],
   "source": [
    "# check to see all missing mort_acc has been filled\n",
    "# there is no output as all rows with missing mort_acc has been filled\n",
    "with pd.option_context('display.max_columns', None):\n",
    "  display(df[df['mort_acc'].isnull()].head())"
   ]
  },
  {
   "cell_type": "markdown",
   "metadata": {},
   "source": [
    "### Task 2.11"
   ]
  },
  {
   "cell_type": "code",
   "execution_count": 41,
   "metadata": {},
   "outputs": [
    {
     "data": {
      "text/plain": [
       "0.06969169002348306"
      ]
     },
     "execution_count": 41,
     "metadata": {},
     "output_type": "execute_result"
    }
   ],
   "source": [
    "# percentage of missing values in 'revol_util'\n",
    "df['revol_util'].isna().sum() / len(df['revol_util']) * 100"
   ]
  },
  {
   "cell_type": "code",
   "execution_count": 42,
   "metadata": {},
   "outputs": [
    {
     "data": {
      "text/plain": [
       "0.13509077595131683"
      ]
     },
     "execution_count": 42,
     "metadata": {},
     "output_type": "execute_result"
    }
   ],
   "source": [
    "# percentage of missing values in 'pub_rec_bankruptcies'\n",
    "df['pub_rec_bankruptcies'].isna().sum() / len(df['pub_rec_bankruptcies']) * 100"
   ]
  },
  {
   "cell_type": "markdown",
   "metadata": {},
   "source": [
    "- Yes, the percentage of missing values for 'revol_util' and 'pub_rec_bankruptcies' are 0.07% and 0.13% respectively\n",
    "- Both features have continuous data type and so the missing values can be replaced by the mean of the respective feature values"
   ]
  },
  {
   "cell_type": "code",
   "execution_count": 43,
   "metadata": {},
   "outputs": [],
   "source": [
    "# fill 'revol_util' and 'pub_rec_bankruptcies' missing values with their respective means\n",
    "df[\"revol_util\"] = df[\"revol_util\"].fillna(df['revol_util'].mean())\n",
    "df[\"pub_rec_bankruptcies\"] = df[\"pub_rec_bankruptcies\"].fillna(df['pub_rec_bankruptcies'].mean())"
   ]
  },
  {
   "cell_type": "code",
   "execution_count": 44,
   "metadata": {},
   "outputs": [
    {
     "data": {
      "text/plain": [
       "0.0"
      ]
     },
     "execution_count": 44,
     "metadata": {},
     "output_type": "execute_result"
    }
   ],
   "source": [
    "# check that there are no missing values now\n",
    "df['revol_util'].isna().sum() / len(df['revol_util']) * 100"
   ]
  },
  {
   "cell_type": "code",
   "execution_count": 45,
   "metadata": {},
   "outputs": [
    {
     "data": {
      "text/plain": [
       "0.0"
      ]
     },
     "execution_count": 45,
     "metadata": {},
     "output_type": "execute_result"
    }
   ],
   "source": [
    "df['pub_rec_bankruptcies'].isna().sum() / len(df['pub_rec_bankruptcies']) * 100"
   ]
  },
  {
   "cell_type": "markdown",
   "metadata": {},
   "source": [
    "### Task 2.12"
   ]
  },
  {
   "cell_type": "code",
   "execution_count": 46,
   "metadata": {},
   "outputs": [
    {
     "data": {
      "text/plain": [
       "['term',\n",
       " 'sub_grade',\n",
       " 'home_ownership',\n",
       " 'verification_status',\n",
       " 'issue_d',\n",
       " 'loan_status',\n",
       " 'purpose',\n",
       " 'earliest_cr_line',\n",
       " 'initial_list_status',\n",
       " 'application_type',\n",
       " 'address']"
      ]
     },
     "execution_count": 46,
     "metadata": {},
     "output_type": "execute_result"
    }
   ],
   "source": [
    "# list columns that are non numeric\n",
    "df.select_dtypes(include='object').columns.to_list()"
   ]
  },
  {
   "cell_type": "markdown",
   "metadata": {},
   "source": [
    "### Task 2.13"
   ]
  },
  {
   "cell_type": "code",
   "execution_count": 47,
   "metadata": {},
   "outputs": [],
   "source": [
    "# convert 'term' column into a 36 or 60 integer numeric data type\n",
    "df['term'] = df[['term']].replace({\"term\":{\" 36 months\": 36, \" 60 months\": 60}})"
   ]
  },
  {
   "cell_type": "markdown",
   "metadata": {},
   "source": [
    "### Task 2.14"
   ]
  },
  {
   "cell_type": "markdown",
   "metadata": {},
   "source": [
    "- It's better not to drop 'grade' column.\n",
    "- 'grade' column is highly related to 'sub_grade' column. 'sub_grade' column provides high granularity. But if we encode 'sub_grade' there will be a lot more columns than encoding 'grade' column. \n",
    "- Using 'grade' column only will result in a loss of information but as the loss is only in terms of granularity, the loss can be considered insignificant."
   ]
  },
  {
   "cell_type": "code",
   "execution_count": 48,
   "metadata": {},
   "outputs": [
    {
     "name": "stdout",
     "output_type": "stream",
     "text": [
      "<class 'pandas.core.frame.DataFrame'>\n",
      "RangeIndex: 396030 entries, 0 to 396029\n",
      "Data columns (total 24 columns):\n",
      " #   Column                Non-Null Count   Dtype  \n",
      "---  ------                --------------   -----  \n",
      " 0   loan_amnt             396030 non-null  float64\n",
      " 1   term                  396030 non-null  int64  \n",
      " 2   int_rate              396030 non-null  float64\n",
      " 3   installment           396030 non-null  float64\n",
      " 4   sub_grade             396030 non-null  object \n",
      " 5   home_ownership        396030 non-null  object \n",
      " 6   annual_inc            396030 non-null  float64\n",
      " 7   verification_status   396030 non-null  object \n",
      " 8   issue_d               396030 non-null  object \n",
      " 9   loan_status           396030 non-null  object \n",
      " 10  purpose               396030 non-null  object \n",
      " 11  dti                   396030 non-null  float64\n",
      " 12  earliest_cr_line      396030 non-null  object \n",
      " 13  open_acc              396030 non-null  float64\n",
      " 14  pub_rec               396030 non-null  float64\n",
      " 15  revol_bal             396030 non-null  float64\n",
      " 16  revol_util            396030 non-null  float64\n",
      " 17  total_acc             396030 non-null  float64\n",
      " 18  initial_list_status   396030 non-null  object \n",
      " 19  application_type      396030 non-null  object \n",
      " 20  mort_acc              396030 non-null  float64\n",
      " 21  pub_rec_bankruptcies  396030 non-null  float64\n",
      " 22  address               396030 non-null  object \n",
      " 23  loan_repaid           396030 non-null  float64\n",
      "dtypes: float64(13), int64(1), object(10)\n",
      "memory usage: 72.5+ MB\n"
     ]
    }
   ],
   "source": [
    "#df = df.dropna()\n",
    "df.info()"
   ]
  },
  {
   "cell_type": "markdown",
   "metadata": {},
   "source": [
    "### Task 2.15 "
   ]
  },
  {
   "cell_type": "code",
   "execution_count": 49,
   "metadata": {},
   "outputs": [
    {
     "data": {
      "text/html": [
       "<div>\n",
       "<style scoped>\n",
       "    .dataframe tbody tr th:only-of-type {\n",
       "        vertical-align: middle;\n",
       "    }\n",
       "\n",
       "    .dataframe tbody tr th {\n",
       "        vertical-align: top;\n",
       "    }\n",
       "\n",
       "    .dataframe thead th {\n",
       "        text-align: right;\n",
       "    }\n",
       "</style>\n",
       "<table border=\"1\" class=\"dataframe\">\n",
       "  <thead>\n",
       "    <tr style=\"text-align: right;\">\n",
       "      <th></th>\n",
       "      <th>A2</th>\n",
       "      <th>A3</th>\n",
       "      <th>A4</th>\n",
       "      <th>A5</th>\n",
       "      <th>B1</th>\n",
       "      <th>B2</th>\n",
       "      <th>B3</th>\n",
       "      <th>B4</th>\n",
       "      <th>B5</th>\n",
       "      <th>C1</th>\n",
       "      <th>...</th>\n",
       "      <th>F1</th>\n",
       "      <th>F2</th>\n",
       "      <th>F3</th>\n",
       "      <th>F4</th>\n",
       "      <th>F5</th>\n",
       "      <th>G1</th>\n",
       "      <th>G2</th>\n",
       "      <th>G3</th>\n",
       "      <th>G4</th>\n",
       "      <th>G5</th>\n",
       "    </tr>\n",
       "  </thead>\n",
       "  <tbody>\n",
       "    <tr>\n",
       "      <th>0</th>\n",
       "      <td>0</td>\n",
       "      <td>0</td>\n",
       "      <td>0</td>\n",
       "      <td>0</td>\n",
       "      <td>0</td>\n",
       "      <td>0</td>\n",
       "      <td>0</td>\n",
       "      <td>1</td>\n",
       "      <td>0</td>\n",
       "      <td>0</td>\n",
       "      <td>...</td>\n",
       "      <td>0</td>\n",
       "      <td>0</td>\n",
       "      <td>0</td>\n",
       "      <td>0</td>\n",
       "      <td>0</td>\n",
       "      <td>0</td>\n",
       "      <td>0</td>\n",
       "      <td>0</td>\n",
       "      <td>0</td>\n",
       "      <td>0</td>\n",
       "    </tr>\n",
       "    <tr>\n",
       "      <th>1</th>\n",
       "      <td>0</td>\n",
       "      <td>0</td>\n",
       "      <td>0</td>\n",
       "      <td>0</td>\n",
       "      <td>0</td>\n",
       "      <td>0</td>\n",
       "      <td>0</td>\n",
       "      <td>0</td>\n",
       "      <td>1</td>\n",
       "      <td>0</td>\n",
       "      <td>...</td>\n",
       "      <td>0</td>\n",
       "      <td>0</td>\n",
       "      <td>0</td>\n",
       "      <td>0</td>\n",
       "      <td>0</td>\n",
       "      <td>0</td>\n",
       "      <td>0</td>\n",
       "      <td>0</td>\n",
       "      <td>0</td>\n",
       "      <td>0</td>\n",
       "    </tr>\n",
       "    <tr>\n",
       "      <th>2</th>\n",
       "      <td>0</td>\n",
       "      <td>0</td>\n",
       "      <td>0</td>\n",
       "      <td>0</td>\n",
       "      <td>0</td>\n",
       "      <td>0</td>\n",
       "      <td>1</td>\n",
       "      <td>0</td>\n",
       "      <td>0</td>\n",
       "      <td>0</td>\n",
       "      <td>...</td>\n",
       "      <td>0</td>\n",
       "      <td>0</td>\n",
       "      <td>0</td>\n",
       "      <td>0</td>\n",
       "      <td>0</td>\n",
       "      <td>0</td>\n",
       "      <td>0</td>\n",
       "      <td>0</td>\n",
       "      <td>0</td>\n",
       "      <td>0</td>\n",
       "    </tr>\n",
       "    <tr>\n",
       "      <th>3</th>\n",
       "      <td>1</td>\n",
       "      <td>0</td>\n",
       "      <td>0</td>\n",
       "      <td>0</td>\n",
       "      <td>0</td>\n",
       "      <td>0</td>\n",
       "      <td>0</td>\n",
       "      <td>0</td>\n",
       "      <td>0</td>\n",
       "      <td>0</td>\n",
       "      <td>...</td>\n",
       "      <td>0</td>\n",
       "      <td>0</td>\n",
       "      <td>0</td>\n",
       "      <td>0</td>\n",
       "      <td>0</td>\n",
       "      <td>0</td>\n",
       "      <td>0</td>\n",
       "      <td>0</td>\n",
       "      <td>0</td>\n",
       "      <td>0</td>\n",
       "    </tr>\n",
       "    <tr>\n",
       "      <th>4</th>\n",
       "      <td>0</td>\n",
       "      <td>0</td>\n",
       "      <td>0</td>\n",
       "      <td>0</td>\n",
       "      <td>0</td>\n",
       "      <td>0</td>\n",
       "      <td>0</td>\n",
       "      <td>0</td>\n",
       "      <td>0</td>\n",
       "      <td>0</td>\n",
       "      <td>...</td>\n",
       "      <td>0</td>\n",
       "      <td>0</td>\n",
       "      <td>0</td>\n",
       "      <td>0</td>\n",
       "      <td>0</td>\n",
       "      <td>0</td>\n",
       "      <td>0</td>\n",
       "      <td>0</td>\n",
       "      <td>0</td>\n",
       "      <td>0</td>\n",
       "    </tr>\n",
       "    <tr>\n",
       "      <th>...</th>\n",
       "      <td>...</td>\n",
       "      <td>...</td>\n",
       "      <td>...</td>\n",
       "      <td>...</td>\n",
       "      <td>...</td>\n",
       "      <td>...</td>\n",
       "      <td>...</td>\n",
       "      <td>...</td>\n",
       "      <td>...</td>\n",
       "      <td>...</td>\n",
       "      <td>...</td>\n",
       "      <td>...</td>\n",
       "      <td>...</td>\n",
       "      <td>...</td>\n",
       "      <td>...</td>\n",
       "      <td>...</td>\n",
       "      <td>...</td>\n",
       "      <td>...</td>\n",
       "      <td>...</td>\n",
       "      <td>...</td>\n",
       "      <td>...</td>\n",
       "    </tr>\n",
       "    <tr>\n",
       "      <th>396025</th>\n",
       "      <td>0</td>\n",
       "      <td>0</td>\n",
       "      <td>0</td>\n",
       "      <td>0</td>\n",
       "      <td>0</td>\n",
       "      <td>0</td>\n",
       "      <td>0</td>\n",
       "      <td>1</td>\n",
       "      <td>0</td>\n",
       "      <td>0</td>\n",
       "      <td>...</td>\n",
       "      <td>0</td>\n",
       "      <td>0</td>\n",
       "      <td>0</td>\n",
       "      <td>0</td>\n",
       "      <td>0</td>\n",
       "      <td>0</td>\n",
       "      <td>0</td>\n",
       "      <td>0</td>\n",
       "      <td>0</td>\n",
       "      <td>0</td>\n",
       "    </tr>\n",
       "    <tr>\n",
       "      <th>396026</th>\n",
       "      <td>0</td>\n",
       "      <td>0</td>\n",
       "      <td>0</td>\n",
       "      <td>0</td>\n",
       "      <td>0</td>\n",
       "      <td>0</td>\n",
       "      <td>0</td>\n",
       "      <td>0</td>\n",
       "      <td>0</td>\n",
       "      <td>1</td>\n",
       "      <td>...</td>\n",
       "      <td>0</td>\n",
       "      <td>0</td>\n",
       "      <td>0</td>\n",
       "      <td>0</td>\n",
       "      <td>0</td>\n",
       "      <td>0</td>\n",
       "      <td>0</td>\n",
       "      <td>0</td>\n",
       "      <td>0</td>\n",
       "      <td>0</td>\n",
       "    </tr>\n",
       "    <tr>\n",
       "      <th>396027</th>\n",
       "      <td>0</td>\n",
       "      <td>0</td>\n",
       "      <td>0</td>\n",
       "      <td>0</td>\n",
       "      <td>1</td>\n",
       "      <td>0</td>\n",
       "      <td>0</td>\n",
       "      <td>0</td>\n",
       "      <td>0</td>\n",
       "      <td>0</td>\n",
       "      <td>...</td>\n",
       "      <td>0</td>\n",
       "      <td>0</td>\n",
       "      <td>0</td>\n",
       "      <td>0</td>\n",
       "      <td>0</td>\n",
       "      <td>0</td>\n",
       "      <td>0</td>\n",
       "      <td>0</td>\n",
       "      <td>0</td>\n",
       "      <td>0</td>\n",
       "    </tr>\n",
       "    <tr>\n",
       "      <th>396028</th>\n",
       "      <td>0</td>\n",
       "      <td>0</td>\n",
       "      <td>0</td>\n",
       "      <td>0</td>\n",
       "      <td>0</td>\n",
       "      <td>0</td>\n",
       "      <td>0</td>\n",
       "      <td>0</td>\n",
       "      <td>0</td>\n",
       "      <td>0</td>\n",
       "      <td>...</td>\n",
       "      <td>0</td>\n",
       "      <td>0</td>\n",
       "      <td>0</td>\n",
       "      <td>0</td>\n",
       "      <td>0</td>\n",
       "      <td>0</td>\n",
       "      <td>0</td>\n",
       "      <td>0</td>\n",
       "      <td>0</td>\n",
       "      <td>0</td>\n",
       "    </tr>\n",
       "    <tr>\n",
       "      <th>396029</th>\n",
       "      <td>0</td>\n",
       "      <td>0</td>\n",
       "      <td>0</td>\n",
       "      <td>0</td>\n",
       "      <td>0</td>\n",
       "      <td>0</td>\n",
       "      <td>0</td>\n",
       "      <td>0</td>\n",
       "      <td>0</td>\n",
       "      <td>0</td>\n",
       "      <td>...</td>\n",
       "      <td>0</td>\n",
       "      <td>0</td>\n",
       "      <td>0</td>\n",
       "      <td>0</td>\n",
       "      <td>0</td>\n",
       "      <td>0</td>\n",
       "      <td>0</td>\n",
       "      <td>0</td>\n",
       "      <td>0</td>\n",
       "      <td>0</td>\n",
       "    </tr>\n",
       "  </tbody>\n",
       "</table>\n",
       "<p>396030 rows × 34 columns</p>\n",
       "</div>"
      ],
      "text/plain": [
       "        A2  A3  A4  A5  B1  B2  B3  B4  B5  C1  ...  F1  F2  F3  F4  F5  G1  \\\n",
       "0        0   0   0   0   0   0   0   1   0   0  ...   0   0   0   0   0   0   \n",
       "1        0   0   0   0   0   0   0   0   1   0  ...   0   0   0   0   0   0   \n",
       "2        0   0   0   0   0   0   1   0   0   0  ...   0   0   0   0   0   0   \n",
       "3        1   0   0   0   0   0   0   0   0   0  ...   0   0   0   0   0   0   \n",
       "4        0   0   0   0   0   0   0   0   0   0  ...   0   0   0   0   0   0   \n",
       "...     ..  ..  ..  ..  ..  ..  ..  ..  ..  ..  ...  ..  ..  ..  ..  ..  ..   \n",
       "396025   0   0   0   0   0   0   0   1   0   0  ...   0   0   0   0   0   0   \n",
       "396026   0   0   0   0   0   0   0   0   0   1  ...   0   0   0   0   0   0   \n",
       "396027   0   0   0   0   1   0   0   0   0   0  ...   0   0   0   0   0   0   \n",
       "396028   0   0   0   0   0   0   0   0   0   0  ...   0   0   0   0   0   0   \n",
       "396029   0   0   0   0   0   0   0   0   0   0  ...   0   0   0   0   0   0   \n",
       "\n",
       "        G2  G3  G4  G5  \n",
       "0        0   0   0   0  \n",
       "1        0   0   0   0  \n",
       "2        0   0   0   0  \n",
       "3        0   0   0   0  \n",
       "4        0   0   0   0  \n",
       "...     ..  ..  ..  ..  \n",
       "396025   0   0   0   0  \n",
       "396026   0   0   0   0  \n",
       "396027   0   0   0   0  \n",
       "396028   0   0   0   0  \n",
       "396029   0   0   0   0  \n",
       "\n",
       "[396030 rows x 34 columns]"
      ]
     },
     "execution_count": 49,
     "metadata": {},
     "output_type": "execute_result"
    }
   ],
   "source": [
    "# convert sub_grade into dummy variables  \n",
    "df_subgrade_dummies = pd.get_dummies(df['sub_grade'], drop_first=True)\n",
    "df_subgrade_dummies"
   ]
  },
  {
   "cell_type": "code",
   "execution_count": 50,
   "metadata": {},
   "outputs": [
    {
     "name": "stdout",
     "output_type": "stream",
     "text": [
      "<class 'pandas.core.frame.DataFrame'>\n",
      "RangeIndex: 396030 entries, 0 to 396029\n",
      "Data columns (total 57 columns):\n",
      " #   Column                Non-Null Count   Dtype  \n",
      "---  ------                --------------   -----  \n",
      " 0   loan_amnt             396030 non-null  float64\n",
      " 1   term                  396030 non-null  int64  \n",
      " 2   int_rate              396030 non-null  float64\n",
      " 3   installment           396030 non-null  float64\n",
      " 4   home_ownership        396030 non-null  object \n",
      " 5   annual_inc            396030 non-null  float64\n",
      " 6   verification_status   396030 non-null  object \n",
      " 7   issue_d               396030 non-null  object \n",
      " 8   loan_status           396030 non-null  object \n",
      " 9   purpose               396030 non-null  object \n",
      " 10  dti                   396030 non-null  float64\n",
      " 11  earliest_cr_line      396030 non-null  object \n",
      " 12  open_acc              396030 non-null  float64\n",
      " 13  pub_rec               396030 non-null  float64\n",
      " 14  revol_bal             396030 non-null  float64\n",
      " 15  revol_util            396030 non-null  float64\n",
      " 16  total_acc             396030 non-null  float64\n",
      " 17  initial_list_status   396030 non-null  object \n",
      " 18  application_type      396030 non-null  object \n",
      " 19  mort_acc              396030 non-null  float64\n",
      " 20  pub_rec_bankruptcies  396030 non-null  float64\n",
      " 21  address               396030 non-null  object \n",
      " 22  loan_repaid           396030 non-null  float64\n",
      " 23  A2                    396030 non-null  uint8  \n",
      " 24  A3                    396030 non-null  uint8  \n",
      " 25  A4                    396030 non-null  uint8  \n",
      " 26  A5                    396030 non-null  uint8  \n",
      " 27  B1                    396030 non-null  uint8  \n",
      " 28  B2                    396030 non-null  uint8  \n",
      " 29  B3                    396030 non-null  uint8  \n",
      " 30  B4                    396030 non-null  uint8  \n",
      " 31  B5                    396030 non-null  uint8  \n",
      " 32  C1                    396030 non-null  uint8  \n",
      " 33  C2                    396030 non-null  uint8  \n",
      " 34  C3                    396030 non-null  uint8  \n",
      " 35  C4                    396030 non-null  uint8  \n",
      " 36  C5                    396030 non-null  uint8  \n",
      " 37  D1                    396030 non-null  uint8  \n",
      " 38  D2                    396030 non-null  uint8  \n",
      " 39  D3                    396030 non-null  uint8  \n",
      " 40  D4                    396030 non-null  uint8  \n",
      " 41  D5                    396030 non-null  uint8  \n",
      " 42  E1                    396030 non-null  uint8  \n",
      " 43  E2                    396030 non-null  uint8  \n",
      " 44  E3                    396030 non-null  uint8  \n",
      " 45  E4                    396030 non-null  uint8  \n",
      " 46  E5                    396030 non-null  uint8  \n",
      " 47  F1                    396030 non-null  uint8  \n",
      " 48  F2                    396030 non-null  uint8  \n",
      " 49  F3                    396030 non-null  uint8  \n",
      " 50  F4                    396030 non-null  uint8  \n",
      " 51  F5                    396030 non-null  uint8  \n",
      " 52  G1                    396030 non-null  uint8  \n",
      " 53  G2                    396030 non-null  uint8  \n",
      " 54  G3                    396030 non-null  uint8  \n",
      " 55  G4                    396030 non-null  uint8  \n",
      " 56  G5                    396030 non-null  uint8  \n",
      "dtypes: float64(13), int64(1), object(9), uint8(34)\n",
      "memory usage: 82.3+ MB\n"
     ]
    }
   ],
   "source": [
    "# concatenate with original dataframe\n",
    "df_concat = pd.concat([df, df_subgrade_dummies], axis=1)\n",
    "# drop 'sub_grade' column\n",
    "df_concat = df_concat.drop(columns=['sub_grade'])\n",
    "df_concat.info()"
   ]
  },
  {
   "cell_type": "markdown",
   "metadata": {},
   "source": [
    "### Task 2.16"
   ]
  },
  {
   "cell_type": "code",
   "execution_count": 51,
   "metadata": {},
   "outputs": [
    {
     "name": "stdout",
     "output_type": "stream",
     "text": [
      "<class 'pandas.core.frame.DataFrame'>\n",
      "RangeIndex: 396030 entries, 0 to 396029\n",
      "Data columns (total 71 columns):\n",
      " #   Column                Non-Null Count   Dtype  \n",
      "---  ------                --------------   -----  \n",
      " 0   loan_amnt             396030 non-null  float64\n",
      " 1   term                  396030 non-null  int64  \n",
      " 2   int_rate              396030 non-null  float64\n",
      " 3   installment           396030 non-null  float64\n",
      " 4   home_ownership        396030 non-null  object \n",
      " 5   annual_inc            396030 non-null  float64\n",
      " 6   issue_d               396030 non-null  object \n",
      " 7   loan_status           396030 non-null  object \n",
      " 8   dti                   396030 non-null  float64\n",
      " 9   earliest_cr_line      396030 non-null  object \n",
      " 10  open_acc              396030 non-null  float64\n",
      " 11  pub_rec               396030 non-null  float64\n",
      " 12  revol_bal             396030 non-null  float64\n",
      " 13  revol_util            396030 non-null  float64\n",
      " 14  total_acc             396030 non-null  float64\n",
      " 15  mort_acc              396030 non-null  float64\n",
      " 16  pub_rec_bankruptcies  396030 non-null  float64\n",
      " 17  address               396030 non-null  object \n",
      " 18  loan_repaid           396030 non-null  float64\n",
      " 19  A2                    396030 non-null  uint8  \n",
      " 20  A3                    396030 non-null  uint8  \n",
      " 21  A4                    396030 non-null  uint8  \n",
      " 22  A5                    396030 non-null  uint8  \n",
      " 23  B1                    396030 non-null  uint8  \n",
      " 24  B2                    396030 non-null  uint8  \n",
      " 25  B3                    396030 non-null  uint8  \n",
      " 26  B4                    396030 non-null  uint8  \n",
      " 27  B5                    396030 non-null  uint8  \n",
      " 28  C1                    396030 non-null  uint8  \n",
      " 29  C2                    396030 non-null  uint8  \n",
      " 30  C3                    396030 non-null  uint8  \n",
      " 31  C4                    396030 non-null  uint8  \n",
      " 32  C5                    396030 non-null  uint8  \n",
      " 33  D1                    396030 non-null  uint8  \n",
      " 34  D2                    396030 non-null  uint8  \n",
      " 35  D3                    396030 non-null  uint8  \n",
      " 36  D4                    396030 non-null  uint8  \n",
      " 37  D5                    396030 non-null  uint8  \n",
      " 38  E1                    396030 non-null  uint8  \n",
      " 39  E2                    396030 non-null  uint8  \n",
      " 40  E3                    396030 non-null  uint8  \n",
      " 41  E4                    396030 non-null  uint8  \n",
      " 42  E5                    396030 non-null  uint8  \n",
      " 43  F1                    396030 non-null  uint8  \n",
      " 44  F2                    396030 non-null  uint8  \n",
      " 45  F3                    396030 non-null  uint8  \n",
      " 46  F4                    396030 non-null  uint8  \n",
      " 47  F5                    396030 non-null  uint8  \n",
      " 48  G1                    396030 non-null  uint8  \n",
      " 49  G2                    396030 non-null  uint8  \n",
      " 50  G3                    396030 non-null  uint8  \n",
      " 51  G4                    396030 non-null  uint8  \n",
      " 52  G5                    396030 non-null  uint8  \n",
      " 53  Source Verified       396030 non-null  uint8  \n",
      " 54  Verified              396030 non-null  uint8  \n",
      " 55  INDIVIDUAL            396030 non-null  uint8  \n",
      " 56  JOINT                 396030 non-null  uint8  \n",
      " 57  w                     396030 non-null  uint8  \n",
      " 58  credit_card           396030 non-null  uint8  \n",
      " 59  debt_consolidation    396030 non-null  uint8  \n",
      " 60  educational           396030 non-null  uint8  \n",
      " 61  home_improvement      396030 non-null  uint8  \n",
      " 62  house                 396030 non-null  uint8  \n",
      " 63  major_purchase        396030 non-null  uint8  \n",
      " 64  medical               396030 non-null  uint8  \n",
      " 65  moving                396030 non-null  uint8  \n",
      " 66  other                 396030 non-null  uint8  \n",
      " 67  renewable_energy      396030 non-null  uint8  \n",
      " 68  small_business        396030 non-null  uint8  \n",
      " 69  vacation              396030 non-null  uint8  \n",
      " 70  wedding               396030 non-null  uint8  \n",
      "dtypes: float64(13), int64(1), object(5), uint8(52)\n",
      "memory usage: 77.0+ MB\n"
     ]
    }
   ],
   "source": [
    "# convert these columns: ['verification_status', 'application_type','initial_list_status','purpose'] into dummy variables\n",
    "df_ver = pd.get_dummies(df['verification_status'], drop_first=True)\n",
    "df_app = pd.get_dummies(df['application_type'], drop_first=True)\n",
    "df_init = pd.get_dummies(df['initial_list_status'], drop_first=True)\n",
    "df_purpose = pd.get_dummies(df['purpose'], drop_first=True)\n",
    "\n",
    "# concatenate with original dataframe\n",
    "df_concat = pd.concat([df_concat, df_ver, df_app, df_init, df_purpose], axis = 1)\n",
    "\n",
    "# drop the original columns\n",
    "df_concat = df_concat.drop(columns=['verification_status','application_type','initial_list_status','purpose'])\n",
    "\n",
    "df_concat.info()"
   ]
  },
  {
   "cell_type": "markdown",
   "metadata": {},
   "source": [
    "### Task 2.17"
   ]
  },
  {
   "cell_type": "code",
   "execution_count": 52,
   "metadata": {},
   "outputs": [
    {
     "data": {
      "text/html": [
       "<div>\n",
       "<style scoped>\n",
       "    .dataframe tbody tr th:only-of-type {\n",
       "        vertical-align: middle;\n",
       "    }\n",
       "\n",
       "    .dataframe tbody tr th {\n",
       "        vertical-align: top;\n",
       "    }\n",
       "\n",
       "    .dataframe thead th {\n",
       "        text-align: right;\n",
       "    }\n",
       "</style>\n",
       "<table border=\"1\" class=\"dataframe\">\n",
       "  <thead>\n",
       "    <tr style=\"text-align: right;\">\n",
       "      <th></th>\n",
       "      <th>home_ownership</th>\n",
       "    </tr>\n",
       "  </thead>\n",
       "  <tbody>\n",
       "    <tr>\n",
       "      <th>MORTGAGE</th>\n",
       "      <td>198348</td>\n",
       "    </tr>\n",
       "    <tr>\n",
       "      <th>RENT</th>\n",
       "      <td>159790</td>\n",
       "    </tr>\n",
       "    <tr>\n",
       "      <th>OWN</th>\n",
       "      <td>37746</td>\n",
       "    </tr>\n",
       "    <tr>\n",
       "      <th>OTHER</th>\n",
       "      <td>112</td>\n",
       "    </tr>\n",
       "    <tr>\n",
       "      <th>NONE</th>\n",
       "      <td>31</td>\n",
       "    </tr>\n",
       "    <tr>\n",
       "      <th>ANY</th>\n",
       "      <td>3</td>\n",
       "    </tr>\n",
       "  </tbody>\n",
       "</table>\n",
       "</div>"
      ],
      "text/plain": [
       "          home_ownership\n",
       "MORTGAGE          198348\n",
       "RENT              159790\n",
       "OWN                37746\n",
       "OTHER                112\n",
       "NONE                  31\n",
       "ANY                    3"
      ]
     },
     "execution_count": 52,
     "metadata": {},
     "output_type": "execute_result"
    }
   ],
   "source": [
    "# display count for values of 'home_ownership' column\n",
    "df['home_ownership'].value_counts().to_frame()"
   ]
  },
  {
   "cell_type": "markdown",
   "metadata": {},
   "source": [
    "### Task 2.18"
   ]
  },
  {
   "cell_type": "code",
   "execution_count": 53,
   "metadata": {},
   "outputs": [],
   "source": [
    "# replace NONE and ANY with OTHER\n",
    "df['home_ownership'] = df[['home_ownership']].replace({\"home_ownership\":{\"NONE\": 'OTHER', \"ANY\": 'OTHER'}})"
   ]
  },
  {
   "cell_type": "code",
   "execution_count": 54,
   "metadata": {},
   "outputs": [
    {
     "name": "stdout",
     "output_type": "stream",
     "text": [
      "<class 'pandas.core.frame.DataFrame'>\n",
      "RangeIndex: 396030 entries, 0 to 396029\n",
      "Data columns (total 73 columns):\n",
      " #   Column                Non-Null Count   Dtype  \n",
      "---  ------                --------------   -----  \n",
      " 0   loan_amnt             396030 non-null  float64\n",
      " 1   term                  396030 non-null  int64  \n",
      " 2   int_rate              396030 non-null  float64\n",
      " 3   installment           396030 non-null  float64\n",
      " 4   annual_inc            396030 non-null  float64\n",
      " 5   issue_d               396030 non-null  object \n",
      " 6   loan_status           396030 non-null  object \n",
      " 7   dti                   396030 non-null  float64\n",
      " 8   earliest_cr_line      396030 non-null  object \n",
      " 9   open_acc              396030 non-null  float64\n",
      " 10  pub_rec               396030 non-null  float64\n",
      " 11  revol_bal             396030 non-null  float64\n",
      " 12  revol_util            396030 non-null  float64\n",
      " 13  total_acc             396030 non-null  float64\n",
      " 14  mort_acc              396030 non-null  float64\n",
      " 15  pub_rec_bankruptcies  396030 non-null  float64\n",
      " 16  address               396030 non-null  object \n",
      " 17  loan_repaid           396030 non-null  float64\n",
      " 18  A2                    396030 non-null  uint8  \n",
      " 19  A3                    396030 non-null  uint8  \n",
      " 20  A4                    396030 non-null  uint8  \n",
      " 21  A5                    396030 non-null  uint8  \n",
      " 22  B1                    396030 non-null  uint8  \n",
      " 23  B2                    396030 non-null  uint8  \n",
      " 24  B3                    396030 non-null  uint8  \n",
      " 25  B4                    396030 non-null  uint8  \n",
      " 26  B5                    396030 non-null  uint8  \n",
      " 27  C1                    396030 non-null  uint8  \n",
      " 28  C2                    396030 non-null  uint8  \n",
      " 29  C3                    396030 non-null  uint8  \n",
      " 30  C4                    396030 non-null  uint8  \n",
      " 31  C5                    396030 non-null  uint8  \n",
      " 32  D1                    396030 non-null  uint8  \n",
      " 33  D2                    396030 non-null  uint8  \n",
      " 34  D3                    396030 non-null  uint8  \n",
      " 35  D4                    396030 non-null  uint8  \n",
      " 36  D5                    396030 non-null  uint8  \n",
      " 37  E1                    396030 non-null  uint8  \n",
      " 38  E2                    396030 non-null  uint8  \n",
      " 39  E3                    396030 non-null  uint8  \n",
      " 40  E4                    396030 non-null  uint8  \n",
      " 41  E5                    396030 non-null  uint8  \n",
      " 42  F1                    396030 non-null  uint8  \n",
      " 43  F2                    396030 non-null  uint8  \n",
      " 44  F3                    396030 non-null  uint8  \n",
      " 45  F4                    396030 non-null  uint8  \n",
      " 46  F5                    396030 non-null  uint8  \n",
      " 47  G1                    396030 non-null  uint8  \n",
      " 48  G2                    396030 non-null  uint8  \n",
      " 49  G3                    396030 non-null  uint8  \n",
      " 50  G4                    396030 non-null  uint8  \n",
      " 51  G5                    396030 non-null  uint8  \n",
      " 52  Source Verified       396030 non-null  uint8  \n",
      " 53  Verified              396030 non-null  uint8  \n",
      " 54  INDIVIDUAL            396030 non-null  uint8  \n",
      " 55  JOINT                 396030 non-null  uint8  \n",
      " 56  w                     396030 non-null  uint8  \n",
      " 57  credit_card           396030 non-null  uint8  \n",
      " 58  debt_consolidation    396030 non-null  uint8  \n",
      " 59  educational           396030 non-null  uint8  \n",
      " 60  home_improvement      396030 non-null  uint8  \n",
      " 61  house                 396030 non-null  uint8  \n",
      " 62  major_purchase        396030 non-null  uint8  \n",
      " 63  medical               396030 non-null  uint8  \n",
      " 64  moving                396030 non-null  uint8  \n",
      " 65  other                 396030 non-null  uint8  \n",
      " 66  renewable_energy      396030 non-null  uint8  \n",
      " 67  small_business        396030 non-null  uint8  \n",
      " 68  vacation              396030 non-null  uint8  \n",
      " 69  wedding               396030 non-null  uint8  \n",
      " 70  OTHER                 396030 non-null  uint8  \n",
      " 71  OWN                   396030 non-null  uint8  \n",
      " 72  RENT                  396030 non-null  uint8  \n",
      "dtypes: float64(13), int64(1), object(4), uint8(55)\n",
      "memory usage: 75.2+ MB\n"
     ]
    }
   ],
   "source": [
    "# convert 'home_ownership' column into dummy variables\n",
    "df_home = pd.get_dummies(df['home_ownership'], drop_first=True)\n",
    "# concatenate to the original dataframe\n",
    "df_concat = pd.concat([df_concat, df_home], axis = 1)\n",
    "# drop the original 'home_ownership' column\n",
    "df_concat = df_concat.drop(columns = ['home_ownership'])\n",
    "df_concat.info()"
   ]
  },
  {
   "cell_type": "markdown",
   "metadata": {},
   "source": [
    "### Task 2.19"
   ]
  },
  {
   "cell_type": "code",
   "execution_count": 55,
   "metadata": {},
   "outputs": [
    {
     "data": {
      "text/html": [
       "<div>\n",
       "<style scoped>\n",
       "    .dataframe tbody tr th:only-of-type {\n",
       "        vertical-align: middle;\n",
       "    }\n",
       "\n",
       "    .dataframe tbody tr th {\n",
       "        vertical-align: top;\n",
       "    }\n",
       "\n",
       "    .dataframe thead th {\n",
       "        text-align: right;\n",
       "    }\n",
       "</style>\n",
       "<table border=\"1\" class=\"dataframe\">\n",
       "  <thead>\n",
       "    <tr style=\"text-align: right;\">\n",
       "      <th></th>\n",
       "      <th>zip_code</th>\n",
       "    </tr>\n",
       "  </thead>\n",
       "  <tbody>\n",
       "    <tr>\n",
       "      <th>0</th>\n",
       "      <td>22690</td>\n",
       "    </tr>\n",
       "    <tr>\n",
       "      <th>1</th>\n",
       "      <td>5113</td>\n",
       "    </tr>\n",
       "    <tr>\n",
       "      <th>2</th>\n",
       "      <td>5113</td>\n",
       "    </tr>\n",
       "    <tr>\n",
       "      <th>3</th>\n",
       "      <td>813</td>\n",
       "    </tr>\n",
       "    <tr>\n",
       "      <th>4</th>\n",
       "      <td>11650</td>\n",
       "    </tr>\n",
       "    <tr>\n",
       "      <th>...</th>\n",
       "      <td>...</td>\n",
       "    </tr>\n",
       "    <tr>\n",
       "      <th>396025</th>\n",
       "      <td>30723</td>\n",
       "    </tr>\n",
       "    <tr>\n",
       "      <th>396026</th>\n",
       "      <td>5113</td>\n",
       "    </tr>\n",
       "    <tr>\n",
       "      <th>396027</th>\n",
       "      <td>70466</td>\n",
       "    </tr>\n",
       "    <tr>\n",
       "      <th>396028</th>\n",
       "      <td>29597</td>\n",
       "    </tr>\n",
       "    <tr>\n",
       "      <th>396029</th>\n",
       "      <td>48052</td>\n",
       "    </tr>\n",
       "  </tbody>\n",
       "</table>\n",
       "<p>396030 rows × 1 columns</p>\n",
       "</div>"
      ],
      "text/plain": [
       "        zip_code\n",
       "0          22690\n",
       "1           5113\n",
       "2           5113\n",
       "3            813\n",
       "4          11650\n",
       "...          ...\n",
       "396025     30723\n",
       "396026      5113\n",
       "396027     70466\n",
       "396028     29597\n",
       "396029     48052\n",
       "\n",
       "[396030 rows x 1 columns]"
      ]
     },
     "execution_count": 55,
     "metadata": {},
     "output_type": "execute_result"
    }
   ],
   "source": [
    "# create a column called 'zip_code' that extracts the zip code from the address column\n",
    "df_concat['zip_code'] = df_concat['address'].transform(lambda x : int(x.split(' ')[-1]))\n",
    "df_concat['zip_code'].to_frame()"
   ]
  },
  {
   "cell_type": "markdown",
   "metadata": {},
   "source": [
    "### Task 2.20"
   ]
  },
  {
   "cell_type": "code",
   "execution_count": 56,
   "metadata": {},
   "outputs": [
    {
     "name": "stdout",
     "output_type": "stream",
     "text": [
      "<class 'pandas.core.frame.DataFrame'>\n",
      "RangeIndex: 396030 entries, 0 to 396029\n",
      "Data columns (total 81 columns):\n",
      " #   Column                Non-Null Count   Dtype  \n",
      "---  ------                --------------   -----  \n",
      " 0   loan_amnt             396030 non-null  float64\n",
      " 1   term                  396030 non-null  int64  \n",
      " 2   int_rate              396030 non-null  float64\n",
      " 3   installment           396030 non-null  float64\n",
      " 4   annual_inc            396030 non-null  float64\n",
      " 5   issue_d               396030 non-null  object \n",
      " 6   loan_status           396030 non-null  object \n",
      " 7   dti                   396030 non-null  float64\n",
      " 8   earliest_cr_line      396030 non-null  object \n",
      " 9   open_acc              396030 non-null  float64\n",
      " 10  pub_rec               396030 non-null  float64\n",
      " 11  revol_bal             396030 non-null  float64\n",
      " 12  revol_util            396030 non-null  float64\n",
      " 13  total_acc             396030 non-null  float64\n",
      " 14  mort_acc              396030 non-null  float64\n",
      " 15  pub_rec_bankruptcies  396030 non-null  float64\n",
      " 16  loan_repaid           396030 non-null  float64\n",
      " 17  A2                    396030 non-null  uint8  \n",
      " 18  A3                    396030 non-null  uint8  \n",
      " 19  A4                    396030 non-null  uint8  \n",
      " 20  A5                    396030 non-null  uint8  \n",
      " 21  B1                    396030 non-null  uint8  \n",
      " 22  B2                    396030 non-null  uint8  \n",
      " 23  B3                    396030 non-null  uint8  \n",
      " 24  B4                    396030 non-null  uint8  \n",
      " 25  B5                    396030 non-null  uint8  \n",
      " 26  C1                    396030 non-null  uint8  \n",
      " 27  C2                    396030 non-null  uint8  \n",
      " 28  C3                    396030 non-null  uint8  \n",
      " 29  C4                    396030 non-null  uint8  \n",
      " 30  C5                    396030 non-null  uint8  \n",
      " 31  D1                    396030 non-null  uint8  \n",
      " 32  D2                    396030 non-null  uint8  \n",
      " 33  D3                    396030 non-null  uint8  \n",
      " 34  D4                    396030 non-null  uint8  \n",
      " 35  D5                    396030 non-null  uint8  \n",
      " 36  E1                    396030 non-null  uint8  \n",
      " 37  E2                    396030 non-null  uint8  \n",
      " 38  E3                    396030 non-null  uint8  \n",
      " 39  E4                    396030 non-null  uint8  \n",
      " 40  E5                    396030 non-null  uint8  \n",
      " 41  F1                    396030 non-null  uint8  \n",
      " 42  F2                    396030 non-null  uint8  \n",
      " 43  F3                    396030 non-null  uint8  \n",
      " 44  F4                    396030 non-null  uint8  \n",
      " 45  F5                    396030 non-null  uint8  \n",
      " 46  G1                    396030 non-null  uint8  \n",
      " 47  G2                    396030 non-null  uint8  \n",
      " 48  G3                    396030 non-null  uint8  \n",
      " 49  G4                    396030 non-null  uint8  \n",
      " 50  G5                    396030 non-null  uint8  \n",
      " 51  Source Verified       396030 non-null  uint8  \n",
      " 52  Verified              396030 non-null  uint8  \n",
      " 53  INDIVIDUAL            396030 non-null  uint8  \n",
      " 54  JOINT                 396030 non-null  uint8  \n",
      " 55  w                     396030 non-null  uint8  \n",
      " 56  credit_card           396030 non-null  uint8  \n",
      " 57  debt_consolidation    396030 non-null  uint8  \n",
      " 58  educational           396030 non-null  uint8  \n",
      " 59  home_improvement      396030 non-null  uint8  \n",
      " 60  house                 396030 non-null  uint8  \n",
      " 61  major_purchase        396030 non-null  uint8  \n",
      " 62  medical               396030 non-null  uint8  \n",
      " 63  moving                396030 non-null  uint8  \n",
      " 64  other                 396030 non-null  uint8  \n",
      " 65  renewable_energy      396030 non-null  uint8  \n",
      " 66  small_business        396030 non-null  uint8  \n",
      " 67  vacation              396030 non-null  uint8  \n",
      " 68  wedding               396030 non-null  uint8  \n",
      " 69  OTHER                 396030 non-null  uint8  \n",
      " 70  OWN                   396030 non-null  uint8  \n",
      " 71  RENT                  396030 non-null  uint8  \n",
      " 72  5113                  396030 non-null  uint8  \n",
      " 73  11650                 396030 non-null  uint8  \n",
      " 74  22690                 396030 non-null  uint8  \n",
      " 75  29597                 396030 non-null  uint8  \n",
      " 76  30723                 396030 non-null  uint8  \n",
      " 77  48052                 396030 non-null  uint8  \n",
      " 78  70466                 396030 non-null  uint8  \n",
      " 79  86630                 396030 non-null  uint8  \n",
      " 80  93700                 396030 non-null  uint8  \n",
      "dtypes: float64(13), int64(1), object(3), uint8(64)\n",
      "memory usage: 75.5+ MB\n"
     ]
    }
   ],
   "source": [
    "# make 'zip_code' column into dummy variables \n",
    "df_zip = pd.get_dummies(df_concat['zip_code'], drop_first=True)\n",
    "# concatenate to the original dataframe\n",
    "df_concat = pd.concat([df_concat, df_zip], axis = 1)\n",
    "# drop the original 'zip_code' column\n",
    "df_concat = df_concat.drop(columns=['zip_code'])\n",
    "# drop the address column\n",
    "df_concat = df_concat.drop(columns=['address'])\n",
    "df_concat.info()"
   ]
  },
  {
   "cell_type": "markdown",
   "metadata": {},
   "source": [
    "### Task 2.21"
   ]
  },
  {
   "cell_type": "code",
   "execution_count": 57,
   "metadata": {},
   "outputs": [
    {
     "data": {
      "text/html": [
       "<div>\n",
       "<style scoped>\n",
       "    .dataframe tbody tr th:only-of-type {\n",
       "        vertical-align: middle;\n",
       "    }\n",
       "\n",
       "    .dataframe tbody tr th {\n",
       "        vertical-align: top;\n",
       "    }\n",
       "\n",
       "    .dataframe thead th {\n",
       "        text-align: right;\n",
       "    }\n",
       "</style>\n",
       "<table border=\"1\" class=\"dataframe\">\n",
       "  <thead>\n",
       "    <tr style=\"text-align: right;\">\n",
       "      <th></th>\n",
       "      <th>earliest_cr_year</th>\n",
       "    </tr>\n",
       "  </thead>\n",
       "  <tbody>\n",
       "    <tr>\n",
       "      <th>0</th>\n",
       "      <td>1990</td>\n",
       "    </tr>\n",
       "    <tr>\n",
       "      <th>1</th>\n",
       "      <td>2004</td>\n",
       "    </tr>\n",
       "    <tr>\n",
       "      <th>2</th>\n",
       "      <td>2007</td>\n",
       "    </tr>\n",
       "    <tr>\n",
       "      <th>3</th>\n",
       "      <td>2006</td>\n",
       "    </tr>\n",
       "    <tr>\n",
       "      <th>4</th>\n",
       "      <td>1999</td>\n",
       "    </tr>\n",
       "    <tr>\n",
       "      <th>...</th>\n",
       "      <td>...</td>\n",
       "    </tr>\n",
       "    <tr>\n",
       "      <th>396025</th>\n",
       "      <td>2004</td>\n",
       "    </tr>\n",
       "    <tr>\n",
       "      <th>396026</th>\n",
       "      <td>2006</td>\n",
       "    </tr>\n",
       "    <tr>\n",
       "      <th>396027</th>\n",
       "      <td>1997</td>\n",
       "    </tr>\n",
       "    <tr>\n",
       "      <th>396028</th>\n",
       "      <td>1990</td>\n",
       "    </tr>\n",
       "    <tr>\n",
       "      <th>396029</th>\n",
       "      <td>1998</td>\n",
       "    </tr>\n",
       "  </tbody>\n",
       "</table>\n",
       "<p>396030 rows × 1 columns</p>\n",
       "</div>"
      ],
      "text/plain": [
       "        earliest_cr_year\n",
       "0                   1990\n",
       "1                   2004\n",
       "2                   2007\n",
       "3                   2006\n",
       "4                   1999\n",
       "...                  ...\n",
       "396025              2004\n",
       "396026              2006\n",
       "396027              1997\n",
       "396028              1990\n",
       "396029              1998\n",
       "\n",
       "[396030 rows x 1 columns]"
      ]
     },
     "execution_count": 57,
     "metadata": {},
     "output_type": "execute_result"
    }
   ],
   "source": [
    "# extract year from 'earliest_cr_line'\n",
    "df_concat['earliest_cr_year'] = df_concat['earliest_cr_line'].transform(lambda x : int(x.split('-')[-1]))\n",
    "# view transformed column\n",
    "df_concat['earliest_cr_year'].to_frame()\n"
   ]
  },
  {
   "cell_type": "code",
   "execution_count": 58,
   "metadata": {},
   "outputs": [],
   "source": [
    "# drop 'earliest_cr_line' column\n",
    "df_concat = df_concat.drop(columns=['earliest_cr_line'])\n",
    "# view transformed dataframe\n",
    "#df_concat.info()"
   ]
  },
  {
   "cell_type": "code",
   "execution_count": 59,
   "metadata": {},
   "outputs": [
    {
     "name": "stdout",
     "output_type": "stream",
     "text": [
      "<class 'pandas.core.frame.DataFrame'>\n",
      "RangeIndex: 396030 entries, 0 to 396029\n",
      "Data columns (total 79 columns):\n",
      " #   Column                Non-Null Count   Dtype  \n",
      "---  ------                --------------   -----  \n",
      " 0   loan_amnt             396030 non-null  float64\n",
      " 1   term                  396030 non-null  int64  \n",
      " 2   int_rate              396030 non-null  float64\n",
      " 3   installment           396030 non-null  float64\n",
      " 4   annual_inc            396030 non-null  float64\n",
      " 5   dti                   396030 non-null  float64\n",
      " 6   open_acc              396030 non-null  float64\n",
      " 7   pub_rec               396030 non-null  float64\n",
      " 8   revol_bal             396030 non-null  float64\n",
      " 9   revol_util            396030 non-null  float64\n",
      " 10  total_acc             396030 non-null  float64\n",
      " 11  mort_acc              396030 non-null  float64\n",
      " 12  pub_rec_bankruptcies  396030 non-null  float64\n",
      " 13  loan_repaid           396030 non-null  float64\n",
      " 14  A2                    396030 non-null  uint8  \n",
      " 15  A3                    396030 non-null  uint8  \n",
      " 16  A4                    396030 non-null  uint8  \n",
      " 17  A5                    396030 non-null  uint8  \n",
      " 18  B1                    396030 non-null  uint8  \n",
      " 19  B2                    396030 non-null  uint8  \n",
      " 20  B3                    396030 non-null  uint8  \n",
      " 21  B4                    396030 non-null  uint8  \n",
      " 22  B5                    396030 non-null  uint8  \n",
      " 23  C1                    396030 non-null  uint8  \n",
      " 24  C2                    396030 non-null  uint8  \n",
      " 25  C3                    396030 non-null  uint8  \n",
      " 26  C4                    396030 non-null  uint8  \n",
      " 27  C5                    396030 non-null  uint8  \n",
      " 28  D1                    396030 non-null  uint8  \n",
      " 29  D2                    396030 non-null  uint8  \n",
      " 30  D3                    396030 non-null  uint8  \n",
      " 31  D4                    396030 non-null  uint8  \n",
      " 32  D5                    396030 non-null  uint8  \n",
      " 33  E1                    396030 non-null  uint8  \n",
      " 34  E2                    396030 non-null  uint8  \n",
      " 35  E3                    396030 non-null  uint8  \n",
      " 36  E4                    396030 non-null  uint8  \n",
      " 37  E5                    396030 non-null  uint8  \n",
      " 38  F1                    396030 non-null  uint8  \n",
      " 39  F2                    396030 non-null  uint8  \n",
      " 40  F3                    396030 non-null  uint8  \n",
      " 41  F4                    396030 non-null  uint8  \n",
      " 42  F5                    396030 non-null  uint8  \n",
      " 43  G1                    396030 non-null  uint8  \n",
      " 44  G2                    396030 non-null  uint8  \n",
      " 45  G3                    396030 non-null  uint8  \n",
      " 46  G4                    396030 non-null  uint8  \n",
      " 47  G5                    396030 non-null  uint8  \n",
      " 48  Source Verified       396030 non-null  uint8  \n",
      " 49  Verified              396030 non-null  uint8  \n",
      " 50  INDIVIDUAL            396030 non-null  uint8  \n",
      " 51  JOINT                 396030 non-null  uint8  \n",
      " 52  w                     396030 non-null  uint8  \n",
      " 53  credit_card           396030 non-null  uint8  \n",
      " 54  debt_consolidation    396030 non-null  uint8  \n",
      " 55  educational           396030 non-null  uint8  \n",
      " 56  home_improvement      396030 non-null  uint8  \n",
      " 57  house                 396030 non-null  uint8  \n",
      " 58  major_purchase        396030 non-null  uint8  \n",
      " 59  medical               396030 non-null  uint8  \n",
      " 60  moving                396030 non-null  uint8  \n",
      " 61  other                 396030 non-null  uint8  \n",
      " 62  renewable_energy      396030 non-null  uint8  \n",
      " 63  small_business        396030 non-null  uint8  \n",
      " 64  vacation              396030 non-null  uint8  \n",
      " 65  wedding               396030 non-null  uint8  \n",
      " 66  OTHER                 396030 non-null  uint8  \n",
      " 67  OWN                   396030 non-null  uint8  \n",
      " 68  RENT                  396030 non-null  uint8  \n",
      " 69  5113                  396030 non-null  uint8  \n",
      " 70  11650                 396030 non-null  uint8  \n",
      " 71  22690                 396030 non-null  uint8  \n",
      " 72  29597                 396030 non-null  uint8  \n",
      " 73  30723                 396030 non-null  uint8  \n",
      " 74  48052                 396030 non-null  uint8  \n",
      " 75  70466                 396030 non-null  uint8  \n",
      " 76  86630                 396030 non-null  uint8  \n",
      " 77  93700                 396030 non-null  uint8  \n",
      " 78  earliest_cr_year      396030 non-null  int64  \n",
      "dtypes: float64(13), int64(2), uint8(64)\n",
      "memory usage: 69.5 MB\n"
     ]
    }
   ],
   "source": [
    "df_concat = df_concat.drop(columns=['issue_d'])\n",
    "# drop 'loan_status' column\n",
    "df_concat = df_concat.drop(columns=['loan_status'])\n",
    "\n",
    "# view transformed dataframe\n",
    "df_concat.info()"
   ]
  },
  {
   "cell_type": "code",
   "execution_count": null,
   "metadata": {},
   "outputs": [],
   "source": []
  },
  {
   "cell_type": "markdown",
   "metadata": {},
   "source": [
    "## TASK 3: Train Test Split\n"
   ]
  },
  {
   "cell_type": "markdown",
   "metadata": {},
   "source": [
    "### Task 3.1"
   ]
  },
  {
   "cell_type": "code",
   "execution_count": 60,
   "metadata": {},
   "outputs": [],
   "source": [
    "# set X and y variables to the values of the features and label\n",
    "X = df_concat.drop('loan_repaid',axis=1)\n",
    "y = df_concat['loan_repaid']"
   ]
  },
  {
   "cell_type": "markdown",
   "metadata": {},
   "source": [
    "## TASK 4: Grabbing a Sample for Training Time"
   ]
  },
  {
   "cell_type": "markdown",
   "metadata": {},
   "source": [
    "### Task 4.1"
   ]
  },
  {
   "cell_type": "code",
   "execution_count": 61,
   "metadata": {},
   "outputs": [],
   "source": [
    "from sklearn.model_selection import train_test_split\n",
    "\n",
    "# perform a train/test split with test_size=0.2 and a random_state of 101\n",
    "X_train, X_test, y_train, y_test = train_test_split(X,y,test_size=0.2,random_state=101)"
   ]
  },
  {
   "cell_type": "markdown",
   "metadata": {},
   "source": [
    "### Task 4.2"
   ]
  },
  {
   "cell_type": "code",
   "execution_count": 62,
   "metadata": {},
   "outputs": [
    {
     "data": {
      "text/plain": [
       "(316824, 78)"
      ]
     },
     "execution_count": 62,
     "metadata": {},
     "output_type": "execute_result"
    }
   ],
   "source": [
    "# use a MinMaxScaler to normalize the feature data X_train and X_test\n",
    "from sklearn.preprocessing import MinMaxScaler\n",
    "\n",
    "scaler = MinMaxScaler()\n",
    "X_train= scaler.fit_transform(X_train)\n",
    "X_test = scaler.transform(X_test)\n",
    "\n",
    "X_train.shape"
   ]
  },
  {
   "cell_type": "code",
   "execution_count": 63,
   "metadata": {},
   "outputs": [
    {
     "data": {
      "text/plain": [
       "(79206, 78)"
      ]
     },
     "execution_count": 63,
     "metadata": {},
     "output_type": "execute_result"
    }
   ],
   "source": [
    "X_test.shape"
   ]
  },
  {
   "cell_type": "markdown",
   "metadata": {},
   "source": [
    "### TASK 5: Creating the Model"
   ]
  },
  {
   "cell_type": "markdown",
   "metadata": {},
   "source": [
    "### Task 5.1"
   ]
  },
  {
   "cell_type": "code",
   "execution_count": 64,
   "metadata": {},
   "outputs": [],
   "source": [
    "from tensorflow.keras.models import Sequential\n",
    "from tensorflow.keras.layers import Dense, Activation, Dropout\n",
    "from tensorflow.keras.optimizers import Adam"
   ]
  },
  {
   "cell_type": "code",
   "execution_count": 72,
   "metadata": {},
   "outputs": [],
   "source": [
    "model = Sequential()\n",
    "\n",
    "model.add(Dense(79,activation='relu'))\n",
    "model.add(Dropout(0.2, input_shape=(79,)))\n",
    "model.add(Dense(1,activation='sigmoid'))\n",
    "\n",
    "model.compile(optimizer='adam',loss='mse')"
   ]
  },
  {
   "cell_type": "markdown",
   "metadata": {},
   "source": [
    "### Task 5.2"
   ]
  },
  {
   "cell_type": "code",
   "execution_count": 73,
   "metadata": {},
   "outputs": [
    {
     "name": "stdout",
     "output_type": "stream",
     "text": [
      "Epoch 1/25\n",
      "1238/1238 [==============================] - 1s 881us/step - loss: 0.0957 - val_loss: 0.0837\n",
      "Epoch 2/25\n",
      "1238/1238 [==============================] - 1s 798us/step - loss: 0.0843 - val_loss: 0.0829\n",
      "Epoch 3/25\n",
      "1238/1238 [==============================] - 1s 807us/step - loss: 0.0836 - val_loss: 0.0827\n",
      "Epoch 4/25\n",
      "1238/1238 [==============================] - 1s 801us/step - loss: 0.0831 - val_loss: 0.0825\n",
      "Epoch 5/25\n",
      "1238/1238 [==============================] - 1s 804us/step - loss: 0.0829 - val_loss: 0.0824\n",
      "Epoch 6/25\n",
      "1238/1238 [==============================] - 1s 795us/step - loss: 0.0827 - val_loss: 0.0824\n",
      "Epoch 7/25\n",
      "1238/1238 [==============================] - 1s 800us/step - loss: 0.0825 - val_loss: 0.0825\n",
      "Epoch 8/25\n",
      "1238/1238 [==============================] - 1s 801us/step - loss: 0.0825 - val_loss: 0.0820\n",
      "Epoch 9/25\n",
      "1238/1238 [==============================] - 1s 797us/step - loss: 0.0823 - val_loss: 0.0822\n",
      "Epoch 10/25\n",
      "1238/1238 [==============================] - 1s 799us/step - loss: 0.0822 - val_loss: 0.0820\n",
      "Epoch 11/25\n",
      "1238/1238 [==============================] - 1s 795us/step - loss: 0.0821 - val_loss: 0.0820\n",
      "Epoch 12/25\n",
      "1238/1238 [==============================] - 1s 798us/step - loss: 0.0820 - val_loss: 0.0820\n",
      "Epoch 13/25\n",
      "1238/1238 [==============================] - 1s 795us/step - loss: 0.0819 - val_loss: 0.0819\n",
      "Epoch 14/25\n",
      "1238/1238 [==============================] - 1s 808us/step - loss: 0.0819 - val_loss: 0.0820\n",
      "Epoch 15/25\n",
      "1238/1238 [==============================] - 1s 800us/step - loss: 0.0818 - val_loss: 0.0820\n",
      "Epoch 16/25\n",
      "1238/1238 [==============================] - 1s 815us/step - loss: 0.0818 - val_loss: 0.0819\n",
      "Epoch 17/25\n",
      "1238/1238 [==============================] - 1s 798us/step - loss: 0.0817 - val_loss: 0.0818\n",
      "Epoch 18/25\n",
      "1238/1238 [==============================] - 1s 796us/step - loss: 0.0816 - val_loss: 0.0822\n",
      "Epoch 19/25\n",
      "1238/1238 [==============================] - 1s 799us/step - loss: 0.0816 - val_loss: 0.0819\n",
      "Epoch 20/25\n",
      "1238/1238 [==============================] - 1s 804us/step - loss: 0.0815 - val_loss: 0.0819\n",
      "Epoch 21/25\n",
      "1238/1238 [==============================] - 1s 798us/step - loss: 0.0815 - val_loss: 0.0819\n",
      "Epoch 22/25\n",
      "1238/1238 [==============================] - 1s 798us/step - loss: 0.0815 - val_loss: 0.0818\n",
      "Epoch 23/25\n",
      "1238/1238 [==============================] - 1s 828us/step - loss: 0.0813 - val_loss: 0.0817\n",
      "Epoch 24/25\n",
      "1238/1238 [==============================] - 1s 810us/step - loss: 0.0813 - val_loss: 0.0818\n",
      "Epoch 25/25\n",
      "1238/1238 [==============================] - 1s 816us/step - loss: 0.0813 - val_loss: 0.0818\n"
     ]
    },
    {
     "data": {
      "text/plain": [
       "<keras.callbacks.History at 0x7f7fdea9a370>"
      ]
     },
     "execution_count": 73,
     "metadata": {},
     "output_type": "execute_result"
    }
   ],
   "source": [
    "model.fit(x=X_train,y=y_train.values,\n",
    "          validation_data=(X_test,y_test.values),\n",
    "          batch_size=256,epochs=25)"
   ]
  },
  {
   "cell_type": "markdown",
   "metadata": {},
   "source": [
    "### Task 5.3"
   ]
  },
  {
   "cell_type": "code",
   "execution_count": 74,
   "metadata": {},
   "outputs": [
    {
     "name": "stdout",
     "output_type": "stream",
     "text": [
      "INFO:tensorflow:Assets written to: saved_model/my_model/assets\n"
     ]
    }
   ],
   "source": [
    "# Save the entire model as a SavedModel.\n",
    "!mkdir -p saved_model\n",
    "model.save('saved_model/my_model')"
   ]
  },
  {
   "cell_type": "markdown",
   "metadata": {},
   "source": [
    "## TASK 6: Evaluating Model Performance"
   ]
  },
  {
   "cell_type": "markdown",
   "metadata": {},
   "source": [
    "### Task 6.1"
   ]
  },
  {
   "cell_type": "code",
   "execution_count": 75,
   "metadata": {},
   "outputs": [
    {
     "data": {
      "text/plain": [
       "<AxesSubplot:>"
      ]
     },
     "execution_count": 75,
     "metadata": {},
     "output_type": "execute_result"
    },
    {
     "data": {
      "image/png": "[encoded data removed]",
      "text/plain": [
       "<Figure size 842.4x595.44 with 1 Axes>"
      ]
     },
     "metadata": {},
     "output_type": "display_data"
    }
   ],
   "source": [
    "losses = pd.DataFrame(model.history.history)\n",
    "losses.plot()"
   ]
  },
  {
   "cell_type": "markdown",
   "metadata": {},
   "source": [
    "### Task 6.2"
   ]
  },
  {
   "cell_type": "code",
   "execution_count": 76,
   "metadata": {},
   "outputs": [
    {
     "name": "stdout",
     "output_type": "stream",
     "text": [
      "[[ 7218  8275]\n",
      " [  509 63204]]\n"
     ]
    }
   ],
   "source": [
    "# get predictions on test set\n",
    "predictions = model.predict(X_test)\n",
    "from sklearn.metrics import classification_report,confusion_matrix\n",
    "\n",
    "predictions = np.where(predictions > 0.5, 1.0, 0.0)\n",
    "# display confusion matrix\n",
    "print(confusion_matrix(y_test,predictions))"
   ]
  },
  {
   "cell_type": "code",
   "execution_count": 77,
   "metadata": {},
   "outputs": [
    {
     "name": "stdout",
     "output_type": "stream",
     "text": [
      "              precision    recall  f1-score   support\n",
      "\n",
      "         0.0       0.93      0.47      0.62     15493\n",
      "         1.0       0.88      0.99      0.94     63713\n",
      "\n",
      "    accuracy                           0.89     79206\n",
      "   macro avg       0.91      0.73      0.78     79206\n",
      "weighted avg       0.89      0.89      0.87     79206\n",
      "\n"
     ]
    }
   ],
   "source": [
    "# display classification report\n",
    "print(classification_report(y_test,predictions))"
   ]
  },
  {
   "cell_type": "markdown",
   "metadata": {},
   "source": [
    "### Task 6.3"
   ]
  },
  {
   "cell_type": "code",
   "execution_count": 78,
   "metadata": {},
   "outputs": [
    {
     "data": {
      "text/plain": [
       "array([[1.]], dtype=float32)"
      ]
     },
     "execution_count": 78,
     "metadata": {},
     "output_type": "execute_result"
    }
   ],
   "source": [
    "import random\n",
    "random.seed(101)\n",
    "random_ind = random.randint(0,len(df_concat))\n",
    "new_customer = df_concat.drop('loan_repaid',axis=1).iloc[random_ind]\n",
    "\n",
    "new_customer_loan = model.predict(new_customer.values.reshape(1,78))\n",
    "new_customer_loan"
   ]
  },
  {
   "cell_type": "markdown",
   "metadata": {},
   "source": [
    "- model predicts the person is going to pay back their loan"
   ]
  },
  {
   "cell_type": "markdown",
   "metadata": {},
   "source": [
    "### Task 6.4"
   ]
  },
  {
   "cell_type": "code",
   "execution_count": 81,
   "metadata": {},
   "outputs": [
    {
     "data": {
      "text/plain": [
       "1.0"
      ]
     },
     "execution_count": 81,
     "metadata": {},
     "output_type": "execute_result"
    }
   ],
   "source": [
    "df_concat['loan_repaid'].iloc[random_ind]"
   ]
  },
  {
   "cell_type": "markdown",
   "metadata": {},
   "source": [
    "- It was checked that the person actually did pay back their loan"
   ]
  },
  {
   "cell_type": "code",
   "execution_count": null,
   "metadata": {},
   "outputs": [],
   "source": []
  }
 ],
 "metadata": {
  "interpreter": {
   "hash": "40d3a090f54c6569ab1632332b64b2c03c39dcf918b08424e98f38b5ae0af88f"
  },
  "kernelspec": {
   "display_name": "Python 3",
   "language": "python",
   "name": "python3"
  },
  "language_info": {
   "codemirror_mode": {
    "name": "ipython",
    "version": 3
   },
   "file_extension": ".py",
   "mimetype": "text/x-python",
   "name": "python",
   "nbconvert_exporter": "python",
   "pygments_lexer": "ipython3",
   "version": "3.8.8"
  }
 },
 "nbformat": 4,
 "nbformat_minor": 2
}

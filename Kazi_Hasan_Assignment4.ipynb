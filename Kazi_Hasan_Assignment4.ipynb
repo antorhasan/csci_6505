{
 "cells": [
  {
   "cell_type": "markdown",
   "id": "9fde75b4",
   "metadata": {},
   "source": [
    "### 1."
   ]
  },
  {
   "cell_type": "code",
   "execution_count": 1,
   "id": "7c5d918b",
   "metadata": {},
   "outputs": [],
   "source": [
    "from tensorflow.keras.datasets import mnist\n",
    "from tensorflow.keras.utils import to_categorical\n",
    "from matplotlib import pyplot as plt\n",
    "from tensorflow.keras.models import Sequential\n",
    "from tensorflow.keras.layers import Conv2D, Dense, MaxPooling2D, Flatten, Dropout\n",
    "from tensorflow.keras.optimizers import Adam\n",
    "from sklearn.metrics import classification_report,confusion_matrix\n",
    "import numpy as np \n",
    "import pandas as pd"
   ]
  },
  {
   "cell_type": "markdown",
   "id": "0f0c87c0",
   "metadata": {},
   "source": [
    "### 2."
   ]
  },
  {
   "cell_type": "code",
   "execution_count": 2,
   "id": "4606b810",
   "metadata": {},
   "outputs": [],
   "source": [
    "# get data in train and test set\n",
    "(trainX, trainY), (testX, testY) = mnist.load_data()"
   ]
  },
  {
   "cell_type": "markdown",
   "id": "fedbe6ea",
   "metadata": {},
   "source": [
    "### 3."
   ]
  },
  {
   "cell_type": "code",
   "execution_count": 3,
   "id": "1b5e3d08",
   "metadata": {},
   "outputs": [
    {
     "name": "stdout",
     "output_type": "stream",
     "text": [
      "Train: X=(60000, 28, 28), y=(60000,)\n",
      "Test: X=(10000, 28, 28), y=(10000,)\n"
     ]
    }
   ],
   "source": [
    "# get current shape of the data\n",
    "print('Train: X=%s, y=%s' % (trainX.shape, trainY.shape))\n",
    "print('Test: X=%s, y=%s' % (testX.shape, testY.shape))"
   ]
  },
  {
   "cell_type": "code",
   "execution_count": 4,
   "id": "a8b83bfa",
   "metadata": {},
   "outputs": [
    {
     "name": "stdout",
     "output_type": "stream",
     "text": [
      "Train: X=(60000, 28, 28, 1), y=(60000,)\n",
      "Test: X=(10000, 28, 28, 1), y=(10000,)\n"
     ]
    }
   ],
   "source": [
    "# convert shape to have single channel\n",
    "trainX = trainX.reshape((-1, 28, 28, 1))\n",
    "testX = testX.reshape((-1, 28, 28, 1))\n",
    "\n",
    "# print new shape of the data\n",
    "print('Train: X=%s, y=%s' % (trainX.shape, trainY.shape))\n",
    "print('Test: X=%s, y=%s' % (testX.shape, testY.shape))"
   ]
  },
  {
   "cell_type": "markdown",
   "id": "07ab5576",
   "metadata": {},
   "source": [
    "### 4."
   ]
  },
  {
   "cell_type": "code",
   "execution_count": 5,
   "id": "0206326d",
   "metadata": {},
   "outputs": [
    {
     "name": "stdout",
     "output_type": "stream",
     "text": [
      "Before one hot encoding : \n",
      "5\n",
      "After one hot encoding : \n",
      "[0. 0. 0. 0. 0. 1. 0. 0. 0. 0.]\n"
     ]
    }
   ],
   "source": [
    "# print one label before encoding\n",
    "print(\"Before one hot encoding : \")\n",
    "print(trainY[0])\n",
    "\n",
    "# convert train and test labels to be categorical one hot format\n",
    "trainY_cat = to_categorical(trainY)\n",
    "testY_cat = to_categorical(testY)\n",
    "\n",
    "# print one label after one hot encoding\n",
    "print(\"After one hot encoding : \")\n",
    "print(trainY_cat[0])"
   ]
  },
  {
   "cell_type": "markdown",
   "id": "95d3abf0",
   "metadata": {},
   "source": [
    "### 5."
   ]
  },
  {
   "cell_type": "code",
   "execution_count": 6,
   "id": "4a2d35a4",
   "metadata": {},
   "outputs": [
    {
     "data": {
      "image/png": "[encoded data removed]",
      "text/plain": [
       "<Figure size 432x288 with 1 Axes>"
      ]
     },
     "metadata": {
      "needs_background": "light"
     },
     "output_type": "display_data"
    }
   ],
   "source": [
    "# print out one of the training images with it's label\n",
    "plt.imshow(trainX[0], cmap=plt.get_cmap('gray'))\n",
    "plt.show()"
   ]
  },
  {
   "cell_type": "code",
   "execution_count": 7,
   "id": "4c5f3d81",
   "metadata": {},
   "outputs": [
    {
     "name": "stdout",
     "output_type": "stream",
     "text": [
      "One hot encoded label : \n",
      "[0. 0. 0. 0. 0. 1. 0. 0. 0. 0.]\n"
     ]
    }
   ],
   "source": [
    "# print out the corresponding label\n",
    "print(\"One hot encoded label : \")\n",
    "print(trainY_cat[0])"
   ]
  },
  {
   "cell_type": "markdown",
   "id": "d304c372",
   "metadata": {},
   "source": [
    "### 6."
   ]
  },
  {
   "cell_type": "code",
   "execution_count": 8,
   "id": "8959aef7",
   "metadata": {},
   "outputs": [
    {
     "name": "stdout",
     "output_type": "stream",
     "text": [
      "Model: \"sequential\"\n",
      "_________________________________________________________________\n",
      " Layer (type)                Output Shape              Param #   \n",
      "=================================================================\n",
      " conv2d (Conv2D)             (None, 26, 26, 32)        320       \n",
      "                                                                 \n",
      " conv2d_1 (Conv2D)           (None, 24, 24, 64)        18496     \n",
      "                                                                 \n",
      " max_pooling2d (MaxPooling2D  (None, 12, 12, 64)       0         \n",
      " )                                                               \n",
      "                                                                 \n",
      " dropout (Dropout)           (None, 12, 12, 64)        0         \n",
      "                                                                 \n",
      " flatten (Flatten)           (None, 9216)              0         \n",
      "                                                                 \n",
      " dense (Dense)               (None, 128)               1179776   \n",
      "                                                                 \n",
      " dropout_1 (Dropout)         (None, 128)               0         \n",
      "                                                                 \n",
      " dense_1 (Dense)             (None, 10)                1290      \n",
      "                                                                 \n",
      "=================================================================\n",
      "Total params: 1,199,882\n",
      "Trainable params: 1,199,882\n",
      "Non-trainable params: 0\n",
      "_________________________________________________________________\n"
     ]
    }
   ],
   "source": [
    "model = Sequential()\n",
    "\n",
    "# 6.a 2D conv layer with 32 3x3 filters\n",
    "model.add(Conv2D(32, (3, 3), activation='relu', kernel_initializer='he_uniform', input_shape=(28, 28, 1)))\n",
    "# 6.b 2D conv layer with 64 3x3 filters \n",
    "model.add(Conv2D(64, (3, 3), activation='relu', kernel_initializer='he_uniform'))\n",
    "# 6.c 2D maxpool layer to distill results\n",
    "model.add(MaxPooling2D((2, 2)))\n",
    "# 6.d add dropout filter to prevent overfitting\n",
    "model.add(Dropout(0.2))\n",
    "# 6.e flatten 2D layer into 1D layer\n",
    "model.add(Flatten())\n",
    "# hidden flat layer of 128 units \n",
    "model.add(Dense(128, activation='relu', kernel_initializer='he_uniform'))\n",
    "# 6.f apply dropout to further prevent overfitting\n",
    "model.add(Dropout(0.2))\n",
    "# 6.g feed into final 10 units where softmax is applied\n",
    "model.add(Dense(10, activation='softmax'))\n",
    "# 6.h check the model description\n",
    "model.summary()"
   ]
  },
  {
   "cell_type": "markdown",
   "id": "5c666195",
   "metadata": {},
   "source": [
    "### 7."
   ]
  },
  {
   "cell_type": "code",
   "execution_count": 9,
   "id": "ec50e47d",
   "metadata": {},
   "outputs": [],
   "source": [
    "model.compile(optimizer='adam', loss='categorical_crossentropy', metrics=['accuracy'])"
   ]
  },
  {
   "cell_type": "code",
   "execution_count": 10,
   "id": "48c18fc7",
   "metadata": {},
   "outputs": [
    {
     "name": "stdout",
     "output_type": "stream",
     "text": [
      "Epoch 1/10\n",
      "1875/1875 [==============================] - 51s 27ms/step - loss: 1.9340 - accuracy: 0.8394 - val_loss: 0.1878 - val_accuracy: 0.9537\n",
      "Epoch 2/10\n",
      "1875/1875 [==============================] - 51s 27ms/step - loss: 0.2684 - accuracy: 0.9306 - val_loss: 0.1590 - val_accuracy: 0.9650\n",
      "Epoch 3/10\n",
      "1875/1875 [==============================] - 51s 27ms/step - loss: 0.2130 - accuracy: 0.9445 - val_loss: 0.0979 - val_accuracy: 0.9739\n",
      "Epoch 4/10\n",
      "1875/1875 [==============================] - 51s 27ms/step - loss: 0.1695 - accuracy: 0.9562 - val_loss: 0.0914 - val_accuracy: 0.9750\n",
      "Epoch 5/10\n",
      "1875/1875 [==============================] - 50s 27ms/step - loss: 0.1342 - accuracy: 0.9652 - val_loss: 0.0830 - val_accuracy: 0.9779\n",
      "Epoch 6/10\n",
      "1875/1875 [==============================] - 51s 27ms/step - loss: 0.1167 - accuracy: 0.9694 - val_loss: 0.0688 - val_accuracy: 0.9826\n",
      "Epoch 7/10\n",
      "1875/1875 [==============================] - 52s 28ms/step - loss: 0.1061 - accuracy: 0.9722 - val_loss: 0.0674 - val_accuracy: 0.9839\n",
      "Epoch 8/10\n",
      "1875/1875 [==============================] - 52s 28ms/step - loss: 0.0929 - accuracy: 0.9766 - val_loss: 0.0642 - val_accuracy: 0.9833\n",
      "Epoch 9/10\n",
      "1875/1875 [==============================] - 52s 28ms/step - loss: 0.0839 - accuracy: 0.9786 - val_loss: 0.0828 - val_accuracy: 0.9833\n",
      "Epoch 10/10\n",
      "1875/1875 [==============================] - 51s 27ms/step - loss: 0.0750 - accuracy: 0.9809 - val_loss: 0.0650 - val_accuracy: 0.9831\n"
     ]
    },
    {
     "data": {
      "text/plain": [
       "<keras.callbacks.History at 0x7fc884f8ec70>"
      ]
     },
     "execution_count": 10,
     "metadata": {},
     "output_type": "execute_result"
    }
   ],
   "source": [
    "model.fit(trainX, trainY_cat, epochs=10, batch_size=32, validation_data=(testX, testY_cat))"
   ]
  },
  {
   "cell_type": "code",
   "execution_count": 11,
   "id": "2b4a941f",
   "metadata": {},
   "outputs": [
    {
     "name": "stdout",
     "output_type": "stream",
     "text": [
      "INFO:tensorflow:Assets written to: saved_model/my_model/assets\n"
     ]
    }
   ],
   "source": [
    "# Save the entire model as a SavedModel.\n",
    "!mkdir -p saved_model\n",
    "model.save('saved_model/my_model')"
   ]
  },
  {
   "cell_type": "markdown",
   "id": "404fe1dd",
   "metadata": {},
   "source": [
    "### 8."
   ]
  },
  {
   "cell_type": "code",
   "execution_count": 12,
   "id": "dce22013",
   "metadata": {},
   "outputs": [
    {
     "data": {
      "text/plain": [
       "<AxesSubplot:>"
      ]
     },
     "execution_count": 12,
     "metadata": {},
     "output_type": "execute_result"
    },
    {
     "data": {
      "image/png": "[encoded data removed]",
      "text/plain": [
       "<Figure size 432x288 with 1 Axes>"
      ]
     },
     "metadata": {
      "needs_background": "light"
     },
     "output_type": "display_data"
    }
   ],
   "source": [
    "losses = pd.DataFrame(model.history.history)\n",
    "loss_plot = losses[['loss', 'val_loss']]\n",
    "loss_plot.plot()"
   ]
  },
  {
   "cell_type": "code",
   "execution_count": 13,
   "id": "ac70f209",
   "metadata": {},
   "outputs": [],
   "source": [
    "# get predictions on test set\n",
    "predictions = model.predict(testX)\n",
    "\n",
    "# get index of maximum value for each sample\n",
    "predicts = np.argmax(predictions, axis=1)"
   ]
  },
  {
   "cell_type": "code",
   "execution_count": 14,
   "id": "8e3867d4",
   "metadata": {},
   "outputs": [
    {
     "name": "stdout",
     "output_type": "stream",
     "text": [
      "[[ 973    0    3    0    0    0    2    0    2    0]\n",
      " [   0 1128    1    0    1    1    2    2    0    0]\n",
      " [   1    0 1021    1    1    0    0    6    2    0]\n",
      " [   0    0    6  987    0    6    0    4    6    1]\n",
      " [   1    0    0    0  967    0    3    1    5    5]\n",
      " [   2    0    0    4    0  882    3    0    0    1]\n",
      " [   8    0    0    0    1    6  942    0    1    0]\n",
      " [   0    2    6    3    2    1    0 1014    0    0]\n",
      " [   2    0    6    3    1    1    1    1  958    1]\n",
      " [   0    1    0    1   10    9    0    9   20  959]]\n"
     ]
    }
   ],
   "source": [
    "# display confusion matrix\n",
    "print(confusion_matrix(testY, predicts))"
   ]
  },
  {
   "cell_type": "code",
   "execution_count": 15,
   "id": "3ad6f697",
   "metadata": {},
   "outputs": [
    {
     "name": "stdout",
     "output_type": "stream",
     "text": [
      "              precision    recall  f1-score   support\n",
      "\n",
      "           0       0.99      0.99      0.99       980\n",
      "           1       1.00      0.99      1.00      1135\n",
      "           2       0.98      0.99      0.98      1032\n",
      "           3       0.99      0.98      0.98      1010\n",
      "           4       0.98      0.98      0.98       982\n",
      "           5       0.97      0.99      0.98       892\n",
      "           6       0.99      0.98      0.99       958\n",
      "           7       0.98      0.99      0.98      1028\n",
      "           8       0.96      0.98      0.97       974\n",
      "           9       0.99      0.95      0.97      1009\n",
      "\n",
      "    accuracy                           0.98     10000\n",
      "   macro avg       0.98      0.98      0.98     10000\n",
      "weighted avg       0.98      0.98      0.98     10000\n",
      "\n"
     ]
    }
   ],
   "source": [
    "# display classification report\n",
    "print(classification_report(testY, predicts))"
   ]
  }
 ],
 "metadata": {
  "kernelspec": {
   "display_name": "Python 3",
   "language": "python",
   "name": "python3"
  },
  "language_info": {
   "codemirror_mode": {
    "name": "ipython",
    "version": 3
   },
   "file_extension": ".py",
   "mimetype": "text/x-python",
   "name": "python",
   "nbconvert_exporter": "python",
   "pygments_lexer": "ipython3",
   "version": "3.8.8"
  }
 },
 "nbformat": 4,
 "nbformat_minor": 5
}
